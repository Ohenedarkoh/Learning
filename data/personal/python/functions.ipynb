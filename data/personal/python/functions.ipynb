{
 "cells": [
  {
   "cell_type": "code",
   "execution_count": null,
   "id": "7839a823-7095-421b-b3ac-65d477473290",
   "metadata": {},
   "outputs": [],
   "source": [
    "# functions \n",
    "# a block of code that runs only when you call it \n",
    "\n",
    "\n"
   ]
  },
  {
   "cell_type": "code",
   "execution_count": 2,
   "id": "5714bbeb-bc8d-4bb6-982c-ab3f8cd59824",
   "metadata": {},
   "outputs": [],
   "source": [
    "def first_func():\n",
    "    print('we did it')"
   ]
  },
  {
   "cell_type": "code",
   "execution_count": 3,
   "id": "2ec74345-ced8-4074-b0eb-4c2842e8f4c9",
   "metadata": {},
   "outputs": [
    {
     "name": "stdout",
     "output_type": "stream",
     "text": [
      "we did it\n"
     ]
    }
   ],
   "source": [
    "first_func()"
   ]
  },
  {
   "cell_type": "code",
   "execution_count": 5,
   "id": "c4be602a-a31c-4f6e-9162-0bdcd14a6af4",
   "metadata": {},
   "outputs": [],
   "source": [
    "def number_squared(number):\n",
    "    print(number**2)"
   ]
  },
  {
   "cell_type": "code",
   "execution_count": 6,
   "id": "8f3353d0-ca46-46db-8c88-833786dcd9d8",
   "metadata": {},
   "outputs": [
    {
     "name": "stdout",
     "output_type": "stream",
     "text": [
      "25\n"
     ]
    }
   ],
   "source": [
    "number_squared(5)"
   ]
  },
  {
   "cell_type": "code",
   "execution_count": 7,
   "id": "d78f1621-934b-4bdc-bc00-8ebd27a7fefc",
   "metadata": {},
   "outputs": [],
   "source": [
    "def number_squared_cust(number, power):\n",
    "    print(number**power)"
   ]
  },
  {
   "cell_type": "code",
   "execution_count": 8,
   "id": "e0145b96-7cd0-4649-b0b8-61d95ad65bb2",
   "metadata": {},
   "outputs": [
    {
     "name": "stdout",
     "output_type": "stream",
     "text": [
      "125\n"
     ]
    }
   ],
   "source": [
    "number_squared_cust(5, 3)"
   ]
  },
  {
   "cell_type": "code",
   "execution_count": null,
   "id": "417dfe1c-c139-48e7-8bee-91045ef5e69e",
   "metadata": {},
   "outputs": [],
   "source": []
  },
  {
   "cell_type": "code",
   "execution_count": 13,
   "id": "bdd32d3b-e650-40e0-9208-ab55c62b40a5",
   "metadata": {},
   "outputs": [],
   "source": [
    "#arguments\n",
    "\n",
    "args_tuple=(5,6,1,2,8)\n",
    "\n",
    "\n",
    "def number_args(*number):\n",
    "    print(number[0]*number[1])"
   ]
  },
  {
   "cell_type": "code",
   "execution_count": 14,
   "id": "dee4c050-f40a-4e89-9e9b-ab5312bfad18",
   "metadata": {},
   "outputs": [
    {
     "name": "stdout",
     "output_type": "stream",
     "text": [
      "30\n"
     ]
    }
   ],
   "source": [
    "number_args(*args_tuple)"
   ]
  },
  {
   "cell_type": "code",
   "execution_count": null,
   "id": "b92ee338-2c7f-4083-8312-da4740143da5",
   "metadata": {},
   "outputs": [],
   "source": []
  },
  {
   "cell_type": "code",
   "execution_count": 17,
   "id": "84b42214-b104-440d-91e1-fa5e34cbb118",
   "metadata": {},
   "outputs": [],
   "source": [
    "#arbitrary argument( no ideal of key nummber of functions in the argument)\n",
    "\n",
    "\n",
    "def number_squared_cust(number,power):\n",
    "    print(number**power)"
   ]
  },
  {
   "cell_type": "code",
   "execution_count": 23,
   "id": "3a65d24f-5f50-4b69-9338-8796b41e55ba",
   "metadata": {},
   "outputs": [],
   "source": [
    "def number_kwarg(**number):\n",
    "    print('my number is :' + number['integer'] + ' my other number:' + number['integer2'])"
   ]
  },
  {
   "cell_type": "code",
   "execution_count": 24,
   "id": "08d53cc1-2cc5-451b-acef-4b3f862a017f",
   "metadata": {},
   "outputs": [
    {
     "name": "stdout",
     "output_type": "stream",
     "text": [
      "my number is :2309 my other number:349\n"
     ]
    }
   ],
   "source": [
    "number_kwarg(integer = '2309', integer2='349')"
   ]
  },
  {
   "cell_type": "code",
   "execution_count": null,
   "id": "ff74bd73-7fb9-41f9-aab5-ca3095059122",
   "metadata": {},
   "outputs": [],
   "source": []
  }
 ],
 "metadata": {
  "kernelspec": {
   "display_name": "Python 3 (ipykernel)",
   "language": "python",
   "name": "python3"
  },
  "language_info": {
   "codemirror_mode": {
    "name": "ipython",
    "version": 3
   },
   "file_extension": ".py",
   "mimetype": "text/x-python",
   "name": "python",
   "nbconvert_exporter": "python",
   "pygments_lexer": "ipython3",
   "version": "3.12.4"
  }
 },
 "nbformat": 4,
 "nbformat_minor": 5
}
