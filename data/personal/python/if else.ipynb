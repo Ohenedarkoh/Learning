{
 "cells": [
  {
   "cell_type": "code",
   "execution_count": 4,
   "id": "1774d263-b2f1-4e4d-8591-b8c7c9cef92b",
   "metadata": {},
   "outputs": [
    {
     "name": "stdout",
     "output_type": "stream",
     "text": [
      "it worked!\n"
     ]
    }
   ],
   "source": [
    "#if/else statements\n",
    "\n",
    "if 25 > 10:\n",
    "    print('it worked!')\n",
    "\n",
    "\n",
    "\n",
    "\n"
   ]
  },
  {
   "cell_type": "code",
   "execution_count": 7,
   "id": "3dfb7c4c-4099-40c9-af01-f349334e52ee",
   "metadata": {},
   "outputs": [
    {
     "name": "stdout",
     "output_type": "stream",
     "text": [
      "it worked\n"
     ]
    }
   ],
   "source": [
    "if 25 > 10:\n",
    "    print('it worked')\n",
    "else: \n",
    "    print(' it did not work')"
   ]
  },
  {
   "cell_type": "code",
   "execution_count": 9,
   "id": "142375c8-fe38-46b9-bf64-bf4402c55ddd",
   "metadata": {},
   "outputs": [
    {
     "name": "stdout",
     "output_type": "stream",
     "text": [
      "it worked\n"
     ]
    }
   ],
   "source": [
    "if 25 > 10:\n",
    "    print('it worked')\n",
    "elif 25 < 30:\n",
    "    print('elif worked')\n",
    "else: \n",
    "    print(' it did not work')"
   ]
  },
  {
   "cell_type": "code",
   "execution_count": 17,
   "id": "4819bca3-9b58-457a-91c7-34dbc219835d",
   "metadata": {},
   "outputs": [
    {
     "name": "stdout",
     "output_type": "stream",
     "text": [
      "it worked\n",
      " this nested if statement worked\n"
     ]
    }
   ],
   "source": [
    "#nested ifs\n",
    "\n",
    "\n",
    "\n",
    "if 25 > 10 or (1 < 3):\n",
    "    print('it worked')\n",
    "    if 10> 5:\n",
    "        print(' this nested if statement worked')\n",
    "elif 25 < 20:\n",
    "   print('elif worked')\n",
    "elif 25 <21:\n",
    "    print('elif 2 worked')\n",
    "elif 25 < 40:\n",
    "    print('elif 3 worked')\n",
    "elif 25 < 50:\n",
    "    print('elif 4 worked')\n",
    "else: \n",
    "    print(' it did not work')"
   ]
  },
  {
   "cell_type": "code",
   "execution_count": 15,
   "id": "de447ed8-c3fb-44ab-b80c-25e84293d0ad",
   "metadata": {},
   "outputs": [
    {
     "name": "stdout",
     "output_type": "stream",
     "text": [
      "it did not work\n"
     ]
    }
   ],
   "source": [
    "print(' it worked') if 10 > 30 else print( 'it did not work')"
   ]
  },
  {
   "cell_type": "code",
   "execution_count": null,
   "id": "9c9798d6-d4d6-4d00-b144-20b53322e9d1",
   "metadata": {},
   "outputs": [],
   "source": []
  },
  {
   "cell_type": "code",
   "execution_count": null,
   "id": "eb7c193d-355f-4203-8fb5-80a6c8142544",
   "metadata": {},
   "outputs": [],
   "source": []
  },
  {
   "cell_type": "code",
   "execution_count": null,
   "id": "8c273e28-317c-48a3-96a0-9125a972e2ae",
   "metadata": {},
   "outputs": [],
   "source": []
  }
 ],
 "metadata": {
  "kernelspec": {
   "display_name": "Python 3 (ipykernel)",
   "language": "python",
   "name": "python3"
  },
  "language_info": {
   "codemirror_mode": {
    "name": "ipython",
    "version": 3
   },
   "file_extension": ".py",
   "mimetype": "text/x-python",
   "name": "python",
   "nbconvert_exporter": "python",
   "pygments_lexer": "ipython3",
   "version": "3.12.4"
  }
 },
 "nbformat": 4,
 "nbformat_minor": 5
}
