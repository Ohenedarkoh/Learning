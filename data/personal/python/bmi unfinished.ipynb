{
 "cells": [
  {
   "cell_type": "code",
   "execution_count": null,
   "id": "415f7041-f2e0-47d9-a911-98b5cba4b05b",
   "metadata": {},
   "outputs": [],
   "source": [
    "#BMI CALCULATOR\n",
    "\n",
    "\n",
    "#BMI = (weight in pounds * 703)/ (height in inches * height in inches)"
   ]
  },
  {
   "cell_type": "code",
   "execution_count": 1,
   "id": "58d98373-c7c1-43f0-9f99-3b9e37ed56cd",
   "metadata": {},
   "outputs": [
    {
     "name": "stdin",
     "output_type": "stream",
     "text": [
      "Enter your weight in pounds: 170\n",
      "Enter your height in inches: 69\n"
     ]
    },
    {
     "name": "stdout",
     "output_type": "stream",
     "text": [
      "25.101869355177485\n"
     ]
    }
   ],
   "source": [
    "weight = int(input(\"Enter your weight in pounds:\"))\n",
    "\n",
    "height = int(input(\"Enter your height in inches:\"))\n",
    "\n",
    "BMI = (weight  * 703)/ (height  * height )\n",
    "print(BMI)"
   ]
  },
  {
   "cell_type": "code",
   "execution_count": 28,
   "id": "79150e8f-6928-4d35-b670-8b265be66195",
   "metadata": {},
   "outputs": [
    {
     "ename": "SyntaxError",
     "evalue": "invalid syntax (1061047142.py, line 1)",
     "output_type": "error",
     "traceback": [
      "\u001b[1;36m  Cell \u001b[1;32mIn[28], line 1\u001b[1;36m\u001b[0m\n\u001b[1;33m    severe Thinness\t< 16\u001b[0m\n\u001b[1;37m           ^\u001b[0m\n\u001b[1;31mSyntaxError\u001b[0m\u001b[1;31m:\u001b[0m invalid syntax\n"
     ]
    }
   ],
   "source": [
    "severe Thinness\t< 16\n",
    "Moderate Thinness\t16 - 17\n",
    "Mild Thinness\t17 - 18.5\n",
    "Normal\t18.5 - 25\n",
    "Overweight\t25 - 30\n",
    "Obese Class I\t30 - 35\n",
    "Obese Class II\t35 - 40\n",
    "Obese Class III\t> 40\n",
    "   "
   ]
  },
  {
   "cell_type": "code",
   "execution_count": 5,
   "id": "65632469-5118-4a33-8598-a63d9267fedb",
   "metadata": {},
   "outputs": [
    {
     "ename": "IndentationError",
     "evalue": "unindent does not match any outer indentation level (<string>, line 4)",
     "output_type": "error",
     "traceback": [
      "\u001b[1;36m  File \u001b[1;32m<string>:4\u001b[1;36m\u001b[0m\n\u001b[1;33m    elif (BMI <=24.9):\u001b[0m\n\u001b[1;37m                      ^\u001b[0m\n\u001b[1;31mIndentationError\u001b[0m\u001b[1;31m:\u001b[0m unindent does not match any outer indentation level\n"
     ]
    }
   ],
   "source": [
    "if BMI > 0 :\n",
    "    if (BMI < 18.5):\n",
    "        print(\"You are underweight.\")\n",
    "     elif (BMI <=24.9):\n",
    "        print(\"You are normal weight.\")\n",
    "     elif (BMI < 29.9):\n",
    "        print(\"You are overweight.\")\n",
    "     else:\n",
    "        print(\"Enter valid inputs.\")"
   ]
  },
  {
   "cell_type": "code",
   "execution_count": 20,
   "id": "0749170a-a8de-4421-8c57-15b89c67e9c3",
   "metadata": {},
   "outputs": [
    {
     "name": "stdout",
     "output_type": "stream",
     "text": [
      "170\n"
     ]
    }
   ],
   "source": [
    "print(weight)"
   ]
  },
  {
   "cell_type": "code",
   "execution_count": null,
   "id": "595ff489-0c05-4cbb-885e-683570c871b6",
   "metadata": {},
   "outputs": [],
   "source": []
  },
  {
   "cell_type": "code",
   "execution_count": null,
   "id": "ac109282-2d5a-40ae-b7e3-0fcd567172cc",
   "metadata": {},
   "outputs": [],
   "source": []
  },
  {
   "cell_type": "code",
   "execution_count": null,
   "id": "c37aafdc-e562-4778-801c-018630cdcbd8",
   "metadata": {},
   "outputs": [],
   "source": []
  },
  {
   "cell_type": "code",
   "execution_count": null,
   "id": "14f5f74c-f862-4f3c-8974-56150e591416",
   "metadata": {},
   "outputs": [],
   "source": []
  },
  {
   "cell_type": "code",
   "execution_count": null,
   "id": "a87a8333-eed4-4275-8a6c-89dfa38e7981",
   "metadata": {},
   "outputs": [],
   "source": []
  },
  {
   "cell_type": "code",
   "execution_count": null,
   "id": "a0557381-f954-4b72-855b-b3adaa915dc2",
   "metadata": {},
   "outputs": [],
   "source": []
  },
  {
   "cell_type": "code",
   "execution_count": null,
   "id": "10b5486f-a48f-49c5-92a9-48a37e66ec8d",
   "metadata": {},
   "outputs": [],
   "source": []
  },
  {
   "cell_type": "code",
   "execution_count": null,
   "id": "eb2bc617-2f13-4561-b722-852b14d65599",
   "metadata": {},
   "outputs": [],
   "source": []
  },
  {
   "cell_type": "code",
   "execution_count": null,
   "id": "c17a064d-6185-4f8b-928e-bc12fc407fd3",
   "metadata": {},
   "outputs": [],
   "source": []
  },
  {
   "cell_type": "code",
   "execution_count": null,
   "id": "50e3936f-abf4-43aa-9c4c-80e3898cfb06",
   "metadata": {},
   "outputs": [],
   "source": []
  },
  {
   "cell_type": "code",
   "execution_count": null,
   "id": "0ba40a6f-1f52-41b1-99ed-0f8da252c7a1",
   "metadata": {},
   "outputs": [],
   "source": []
  },
  {
   "cell_type": "code",
   "execution_count": null,
   "id": "721edf03-c512-4fc2-b593-9a2b05be142e",
   "metadata": {},
   "outputs": [],
   "source": []
  },
  {
   "cell_type": "code",
   "execution_count": null,
   "id": "8863420d-2234-4b03-8fab-a1576457e72b",
   "metadata": {},
   "outputs": [],
   "source": []
  },
  {
   "cell_type": "code",
   "execution_count": null,
   "id": "8a4424a6-33fb-4069-a98d-05da332ffe66",
   "metadata": {},
   "outputs": [],
   "source": []
  },
  {
   "cell_type": "code",
   "execution_count": null,
   "id": "3d1d2c83-19d4-480c-8445-be83ea030afb",
   "metadata": {},
   "outputs": [],
   "source": []
  },
  {
   "cell_type": "code",
   "execution_count": null,
   "id": "6ca0d715-95fc-4312-8cb6-baafade71689",
   "metadata": {},
   "outputs": [],
   "source": []
  },
  {
   "cell_type": "code",
   "execution_count": null,
   "id": "4592576b-1429-465a-ae93-66027f41e01a",
   "metadata": {},
   "outputs": [],
   "source": []
  },
  {
   "cell_type": "code",
   "execution_count": null,
   "id": "ffeaabd5-dc70-4972-b26f-fa5b805f097a",
   "metadata": {},
   "outputs": [],
   "source": []
  },
  {
   "cell_type": "code",
   "execution_count": null,
   "id": "92d24a49-e287-4c89-9892-3b269fb51df2",
   "metadata": {},
   "outputs": [],
   "source": []
  },
  {
   "cell_type": "code",
   "execution_count": null,
   "id": "3fe90d14-6c38-462a-833c-89a64b7241d8",
   "metadata": {},
   "outputs": [],
   "source": []
  },
  {
   "cell_type": "code",
   "execution_count": null,
   "id": "00f359cc-c89f-4767-b78b-b0f08b472a2e",
   "metadata": {},
   "outputs": [],
   "source": []
  },
  {
   "cell_type": "code",
   "execution_count": null,
   "id": "c63404e2-6219-49cf-be36-3f4052c0ea03",
   "metadata": {},
   "outputs": [],
   "source": []
  },
  {
   "cell_type": "code",
   "execution_count": null,
   "id": "a345f356-d548-4c09-b1c7-2ec5080f336f",
   "metadata": {},
   "outputs": [],
   "source": []
  },
  {
   "cell_type": "code",
   "execution_count": null,
   "id": "db591f47-f45d-4746-a185-81a1f5ce9880",
   "metadata": {},
   "outputs": [],
   "source": []
  },
  {
   "cell_type": "code",
   "execution_count": null,
   "id": "613d802a-0567-4610-adb1-c5c02a6cd45a",
   "metadata": {},
   "outputs": [],
   "source": []
  },
  {
   "cell_type": "code",
   "execution_count": null,
   "id": "ea72f3c3-22ab-4d97-b651-b27500716507",
   "metadata": {},
   "outputs": [],
   "source": []
  }
 ],
 "metadata": {
  "kernelspec": {
   "display_name": "Python 3 (ipykernel)",
   "language": "python",
   "name": "python3"
  },
  "language_info": {
   "codemirror_mode": {
    "name": "ipython",
    "version": 3
   },
   "file_extension": ".py",
   "mimetype": "text/x-python",
   "name": "python",
   "nbconvert_exporter": "python",
   "pygments_lexer": "ipython3",
   "version": "3.12.4"
  }
 },
 "nbformat": 4,
 "nbformat_minor": 5
}
