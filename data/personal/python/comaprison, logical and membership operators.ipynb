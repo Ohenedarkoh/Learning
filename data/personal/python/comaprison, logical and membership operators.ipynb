{
 "cells": [
  {
   "cell_type": "code",
   "execution_count": 1,
   "id": "f5d8e51c-4358-4a4d-a3d4-253cd22bc35f",
   "metadata": {},
   "outputs": [
    {
     "ename": "SyntaxError",
     "evalue": "cannot assign to literal here. Maybe you meant '==' instead of '='? (3699583847.py, line 4)",
     "output_type": "error",
     "traceback": [
      "\u001b[1;36m  Cell \u001b[1;32mIn[1], line 4\u001b[1;36m\u001b[0m\n\u001b[1;33m    10=10\u001b[0m\n\u001b[1;37m    ^\u001b[0m\n\u001b[1;31mSyntaxError\u001b[0m\u001b[1;31m:\u001b[0m cannot assign to literal here. Maybe you meant '==' instead of '='?\n"
     ]
    }
   ],
   "source": [
    "# comparison operators\n",
    "\n",
    "\n",
    "10=10"
   ]
  },
  {
   "cell_type": "code",
   "execution_count": 2,
   "id": "b47a76e0-23fa-4345-a73e-5cd3536be29b",
   "metadata": {},
   "outputs": [
    {
     "data": {
      "text/plain": [
       "True"
      ]
     },
     "execution_count": 2,
     "metadata": {},
     "output_type": "execute_result"
    }
   ],
   "source": [
    "10==10"
   ]
  },
  {
   "cell_type": "code",
   "execution_count": 3,
   "id": "21424756-d01c-4b77-8186-3dc88f74bf08",
   "metadata": {},
   "outputs": [
    {
     "data": {
      "text/plain": [
       "True"
      ]
     },
     "execution_count": 3,
     "metadata": {},
     "output_type": "execute_result"
    }
   ],
   "source": [
    "10!=50"
   ]
  },
  {
   "cell_type": "code",
   "execution_count": 4,
   "id": "300de1de-6226-4ed9-ad20-44416188249a",
   "metadata": {},
   "outputs": [
    {
     "data": {
      "text/plain": [
       "True"
      ]
     },
     "execution_count": 4,
     "metadata": {},
     "output_type": "execute_result"
    }
   ],
   "source": [
    "'vanilla' != 'chocolate'"
   ]
  },
  {
   "cell_type": "code",
   "execution_count": 6,
   "id": "e5b8a107-ecc1-4c20-862a-f5369f88b51d",
   "metadata": {},
   "outputs": [
    {
     "data": {
      "text/plain": [
       "True"
      ]
     },
     "execution_count": 6,
     "metadata": {},
     "output_type": "execute_result"
    }
   ],
   "source": [
    "'vanilla'=='vanilla'"
   ]
  },
  {
   "cell_type": "code",
   "execution_count": 7,
   "id": "b5467273-a336-439b-b1e8-957295a0707d",
   "metadata": {},
   "outputs": [
    {
     "data": {
      "text/plain": [
       "True"
      ]
     },
     "execution_count": 7,
     "metadata": {},
     "output_type": "execute_result"
    }
   ],
   "source": [
    "x= 'vanilla'\n",
    "y='chocolate'\n",
    "x!=y"
   ]
  },
  {
   "cell_type": "code",
   "execution_count": 12,
   "id": "892b49f9-800e-4f61-916a-b85e46c8e99f",
   "metadata": {},
   "outputs": [
    {
     "data": {
      "text/plain": [
       "True"
      ]
     },
     "execution_count": 12,
     "metadata": {},
     "output_type": "execute_result"
    }
   ],
   "source": [
    "10 >=10"
   ]
  },
  {
   "cell_type": "code",
   "execution_count": 13,
   "id": "31ebe292-f709-496c-86d5-ef00784accc5",
   "metadata": {},
   "outputs": [
    {
     "data": {
      "text/plain": [
       "True"
      ]
     },
     "execution_count": 13,
     "metadata": {},
     "output_type": "execute_result"
    }
   ],
   "source": [
    "50 >= 10 "
   ]
  },
  {
   "cell_type": "code",
   "execution_count": 15,
   "id": "926e2290-5417-4fcd-860f-29f77abfe575",
   "metadata": {},
   "outputs": [
    {
     "data": {
      "text/plain": [
       "True"
      ]
     },
     "execution_count": 15,
     "metadata": {},
     "output_type": "execute_result"
    }
   ],
   "source": [
    "#logical operators\n",
    "\n",
    "(70 > 50) and (50 > 10)\n",
    "            \n"
   ]
  },
  {
   "cell_type": "code",
   "execution_count": 17,
   "id": "ddad30ee-216c-451a-9ff5-175d8eaee3fd",
   "metadata": {},
   "outputs": [
    {
     "data": {
      "text/plain": [
       "True"
      ]
     },
     "execution_count": 17,
     "metadata": {},
     "output_type": "execute_result"
    }
   ],
   "source": [
    "(10 > 50) or  (50 > 10)"
   ]
  },
  {
   "cell_type": "code",
   "execution_count": 19,
   "id": "9f917e3f-e633-4c3f-b60d-76e2dc186aac",
   "metadata": {},
   "outputs": [
    {
     "data": {
      "text/plain": [
       "True"
      ]
     },
     "execution_count": 19,
     "metadata": {},
     "output_type": "execute_result"
    }
   ],
   "source": [
    "('vanilla' > ' chocolate') and (50 > 10)"
   ]
  },
  {
   "cell_type": "code",
   "execution_count": 20,
   "id": "8dc54447-025c-4310-b59b-6a6efaa31bed",
   "metadata": {},
   "outputs": [
    {
     "data": {
      "text/plain": [
       "False"
      ]
     },
     "execution_count": 20,
     "metadata": {},
     "output_type": "execute_result"
    }
   ],
   "source": [
    "not (50 > 10)"
   ]
  },
  {
   "cell_type": "code",
   "execution_count": 21,
   "id": "bb4425a4-538e-485a-adb6-408907f09bfe",
   "metadata": {},
   "outputs": [
    {
     "data": {
      "text/plain": [
       "True"
      ]
     },
     "execution_count": 21,
     "metadata": {},
     "output_type": "execute_result"
    }
   ],
   "source": [
    "# membershio operators\n",
    "\n",
    "ice_cream= ' i love chocolate ice cream'\n",
    "'love' in ice_cream"
   ]
  },
  {
   "cell_type": "code",
   "execution_count": 25,
   "id": "5a2a962e-1819-421d-88f0-ecd92b16a828",
   "metadata": {},
   "outputs": [
    {
     "data": {
      "text/plain": [
       "False"
      ]
     },
     "execution_count": 25,
     "metadata": {},
     "output_type": "execute_result"
    }
   ],
   "source": [
    "scoops = [ 1,2,3,4,5]\n",
    "wanted_scoops= 8\n",
    "wanted_scoops in scoops"
   ]
  },
  {
   "cell_type": "code",
   "execution_count": null,
   "id": "2225cf14-2f56-445c-b8a0-d88e68924bc8",
   "metadata": {},
   "outputs": [],
   "source": []
  }
 ],
 "metadata": {
  "kernelspec": {
   "display_name": "Python 3 (ipykernel)",
   "language": "python",
   "name": "python3"
  },
  "language_info": {
   "codemirror_mode": {
    "name": "ipython",
    "version": 3
   },
   "file_extension": ".py",
   "mimetype": "text/x-python",
   "name": "python",
   "nbconvert_exporter": "python",
   "pygments_lexer": "ipython3",
   "version": "3.12.4"
  }
 },
 "nbformat": 4,
 "nbformat_minor": 5
}
