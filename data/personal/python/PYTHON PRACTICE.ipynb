{
 "cells": [
  {
   "cell_type": "code",
   "execution_count": 1,
   "id": "d081574a-02da-4acc-a073-285489f1c6e0",
   "metadata": {},
   "outputs": [
    {
     "name": "stdout",
     "output_type": "stream",
     "text": [
      "Hello world\n"
     ]
    }
   ],
   "source": [
    "###\n",
    "print('Hello world')"
   ]
  },
  {
   "cell_type": "code",
   "execution_count": 5,
   "id": "9de6af7a-acba-4a99-a935-ba9f9bd5810d",
   "metadata": {},
   "outputs": [
    {
     "name": "stdout",
     "output_type": "stream",
     "text": [
      "Five is less than two\n"
     ]
    }
   ],
   "source": [
    "if 5 < 2:\n",
    "    print('Five is greater than two')\n",
    "else:\n",
    "    print('Five is less than two')"
   ]
  },
  {
   "cell_type": "code",
   "execution_count": 11,
   "id": "e783faa6-daac-4657-a0a7-5a7503c79e30",
   "metadata": {},
   "outputs": [
    {
     "name": "stdout",
     "output_type": "stream",
     "text": [
      "5\n",
      "Hello world\n"
     ]
    }
   ],
   "source": [
    "# variables\n",
    "\n",
    "\n",
    "x = 5 \n",
    "y = 'Hello world'\n",
    "\n",
    "print(x)\n",
    "print(y)"
   ]
  },
  {
   "cell_type": "code",
   "execution_count": 12,
   "id": "d583745b-fc0d-468e-9469-d243e4754239",
   "metadata": {},
   "outputs": [
    {
     "name": "stdout",
     "output_type": "stream",
     "text": [
      "sally\n"
     ]
    }
   ],
   "source": [
    "X=5\n",
    "x = 'sally'\n",
    "print(x)"
   ]
  },
  {
   "cell_type": "code",
   "execution_count": 14,
   "id": "8b5ad378-5e6d-4f88-8efa-f63fb331f74e",
   "metadata": {},
   "outputs": [
    {
     "name": "stdout",
     "output_type": "stream",
     "text": [
      "<class 'int'>\n",
      "<class 'str'>\n"
     ]
    }
   ],
   "source": [
    "x= 5\n",
    "y= 'John'\n",
    "print(type(x))\n",
    "print(type(y))"
   ]
  },
  {
   "cell_type": "code",
   "execution_count": 17,
   "id": "f2d7ee1b-b919-4eba-9816-69de544d42dc",
   "metadata": {},
   "outputs": [
    {
     "ename": "SyntaxError",
     "evalue": "invalid decimal literal (3301064147.py, line 1)",
     "output_type": "error",
     "traceback": [
      "\u001b[1;36m  Cell \u001b[1;32mIn[17], line 1\u001b[1;36m\u001b[0m\n\u001b[1;33m    x = 5e\u001b[0m\n\u001b[1;37m        ^\u001b[0m\n\u001b[1;31mSyntaxError\u001b[0m\u001b[1;31m:\u001b[0m invalid decimal literal\n"
     ]
    }
   ],
   "source": [
    "x = 5e\n",
    "y=5d3\n",
    "z =-34.4r3\n",
    "print(type(x))\n",
    "print(type(y))\n",
    "print(type(z))"
   ]
  },
  {
   "cell_type": "code",
   "execution_count": 20,
   "id": "d3a73966-0f04-48c3-aa34-be7ff9e56945",
   "metadata": {},
   "outputs": [
    {
     "name": "stdout",
     "output_type": "stream",
     "text": [
      "<class 'complex'>\n"
     ]
    }
   ],
   "source": [
    " x = -5j\n",
    "print(type(x))"
   ]
  },
  {
   "cell_type": "code",
   "execution_count": 22,
   "id": "28fc997b-7733-4953-89fc-0f8ba1c196d3",
   "metadata": {},
   "outputs": [
    {
     "name": "stdout",
     "output_type": "stream",
     "text": [
      "1\n",
      "3\n",
      "5\n"
     ]
    }
   ],
   "source": [
    "x = int(1.2)\n",
    "y= int(3.4)\n",
    "z= int('5')\n",
    "print(x)\n",
    "print(y)\n",
    "print(z)"
   ]
  },
  {
   "cell_type": "code",
   "execution_count": 24,
   "id": "12929aba-52e8-4786-9df5-134f97283aad",
   "metadata": {},
   "outputs": [
    {
     "name": "stdout",
     "output_type": "stream",
     "text": [
      "1.0\n"
     ]
    }
   ],
   "source": [
    "x = float(1)\n",
    "print(x)"
   ]
  },
  {
   "cell_type": "code",
   "execution_count": 25,
   "id": "150007df-071b-4f7c-92d7-1e73e87e6380",
   "metadata": {},
   "outputs": [
    {
     "name": "stdout",
     "output_type": "stream",
     "text": [
      "s1\n"
     ]
    }
   ],
   "source": [
    "x = str('s1')\n",
    "print(x)"
   ]
  },
  {
   "cell_type": "code",
   "execution_count": 27,
   "id": "794b1f82-42e4-4249-89a3-47b37e28bb2c",
   "metadata": {},
   "outputs": [
    {
     "name": "stdout",
     "output_type": "stream",
     "text": [
      "2\n"
     ]
    }
   ],
   "source": [
    "y = str('2')\n",
    "print(y)"
   ]
  },
  {
   "cell_type": "code",
   "execution_count": 28,
   "id": "e908fa8a-4a0d-4c09-a281-3732c2670f40",
   "metadata": {},
   "outputs": [
    {
     "name": "stdout",
     "output_type": "stream",
     "text": [
      "['apple', 'cat', 'banana']\n"
     ]
    }
   ],
   "source": [
    "# list constructors\n",
    "\n",
    "thelist= list(('apple','cat','banana'))\n",
    "print(thelist)"
   ]
  },
  {
   "cell_type": "code",
   "execution_count": 30,
   "id": "2926ebda-84c3-4a0f-be97-7a2a31905f6b",
   "metadata": {},
   "outputs": [
    {
     "name": "stdout",
     "output_type": "stream",
     "text": [
      "apple\n"
     ]
    }
   ],
   "source": [
    "#fetching from a list\n",
    "\n",
    "thelist= ['apple','orange','banana','lime','lemon']\n",
    "print(thelist[0])"
   ]
  },
  {
   "cell_type": "code",
   "execution_count": 31,
   "id": "73a069eb-c7ca-48de-8c6b-dba9fa12b518",
   "metadata": {},
   "outputs": [
    {
     "name": "stdout",
     "output_type": "stream",
     "text": [
      "['orange', 'banana', 'lime']\n"
     ]
    }
   ],
   "source": [
    "thelist= ['apple','orange','banana','lime','lemon']\n",
    "print(thelist[1:4])"
   ]
  },
  {
   "cell_type": "code",
   "execution_count": 33,
   "id": "6787f75b-574a-47c5-b4c6-6dce27c9bae0",
   "metadata": {},
   "outputs": [
    {
     "name": "stdout",
     "output_type": "stream",
     "text": [
      "['apple', 'pawpaw', 'banana', 'lime', 'lemon']\n"
     ]
    }
   ],
   "source": [
    "thelist= ['apple','orange','banana','lime','lemon']\n",
    "thelist[1]= 'pawpaw'\n",
    "print(thelist)"
   ]
  },
  {
   "cell_type": "code",
   "execution_count": 3,
   "id": "09267912-9afe-403b-a7c8-3b8ec9a12331",
   "metadata": {},
   "outputs": [
    {
     "name": "stdout",
     "output_type": "stream",
     "text": [
      "['pawpaw', 'coconut', 'lemon']\n"
     ]
    }
   ],
   "source": [
    "thelist= ['apple','orange','banana','lime','lemon']\n",
    "thelist[0:4]= ['pawpaw','coconut']\n",
    "print(thelist)"
   ]
  },
  {
   "cell_type": "code",
   "execution_count": 36,
   "id": "284fcf11-a6fe-42b5-8405-4c323d480508",
   "metadata": {},
   "outputs": [
    {
     "name": "stdout",
     "output_type": "stream",
     "text": [
      "['apple', 'orange', 'banana', 'lime', 'lemon', 'apple']\n"
     ]
    }
   ],
   "source": [
    "thelist= ['apple','orange','banana','lime','lemon']\n",
    "thelist.append('apple')\n",
    "print(thelist)\n",
    "\n",
    "#append"
   ]
  },
  {
   "cell_type": "code",
   "execution_count": 38,
   "id": "32633885-6993-4be7-a877-f450cd3ccbbe",
   "metadata": {},
   "outputs": [
    {
     "name": "stdout",
     "output_type": "stream",
     "text": [
      "['apple', 'orange', 'watermelon', 'banana', 'lime', 'lemon']\n"
     ]
    }
   ],
   "source": [
    "thelist= ['apple','orange','banana','lime','lemon']\n",
    "thelist.insert(2,'watermelon')\n",
    "print(thelist)\n",
    "\n",
    "#insert"
   ]
  },
  {
   "cell_type": "code",
   "execution_count": 39,
   "id": "7f4d270e-4b01-4b8c-bdcc-c496665909e5",
   "metadata": {},
   "outputs": [
    {
     "name": "stdout",
     "output_type": "stream",
     "text": [
      "['apple', 'orange', 'banana', 'lime', 'lemon', 'rat', 'goat', 'lion']\n"
     ]
    }
   ],
   "source": [
    "thelist= ['apple','orange','banana','lime','lemon']\n",
    "anotherlist =[ 'rat','goat','lion']\n",
    "thelist.extend(anotherlist)\n",
    "print(thelist)\n",
    "\n",
    "#extend"
   ]
  },
  {
   "cell_type": "code",
   "execution_count": 40,
   "id": "a0097d6d-7fc5-4e60-91d1-6155017f26b6",
   "metadata": {},
   "outputs": [
    {
     "name": "stdout",
     "output_type": "stream",
     "text": [
      "['apple', 'banana', 'lime', 'lemon']\n"
     ]
    }
   ],
   "source": [
    "#remove\n",
    "\n",
    "thelist= ['apple','orange','banana','lime','lemon']\n",
    "thelist.remove('orange')\n",
    "print(thelist)"
   ]
  },
  {
   "cell_type": "code",
   "execution_count": 41,
   "id": "b66d465a-f47f-4dd1-bdbb-36a22bd39c21",
   "metadata": {},
   "outputs": [
    {
     "name": "stdout",
     "output_type": "stream",
     "text": [
      "['apple', 'orange', 'lime', 'lemon']\n"
     ]
    }
   ],
   "source": [
    "thelist= ['apple','orange','banana','lime','lemon']\n",
    "thelist.pop(2)\n",
    "print(thelist)\n",
    "\n",
    "#pop removes using the index, same as del"
   ]
  },
  {
   "cell_type": "code",
   "execution_count": 43,
   "id": "bcec851f-fc12-4bc9-95df-9503b700ca62",
   "metadata": {},
   "outputs": [
    {
     "name": "stdout",
     "output_type": "stream",
     "text": [
      "[]\n"
     ]
    }
   ],
   "source": [
    "thelist= ['apple','orange','banana','lime','lemon']\n",
    "thelist.clear()\n",
    "print(thelist)"
   ]
  },
  {
   "cell_type": "code",
   "execution_count": 45,
   "id": "31cf7e18-39b9-48c6-95d3-94ba363bd6ef",
   "metadata": {},
   "outputs": [],
   "source": [
    "thelist= ['apple','orange','banana','lime','lemon']\n",
    "del thelist\n"
   ]
  },
  {
   "cell_type": "code",
   "execution_count": 48,
   "id": "027f548b-f0ef-4425-a6b1-6e255c72dc92",
   "metadata": {},
   "outputs": [
    {
     "name": "stdout",
     "output_type": "stream",
     "text": [
      "b is greater than a\n"
     ]
    }
   ],
   "source": [
    "# if else \n",
    "\n",
    "a = 5\n",
    "b= 7\n",
    "if b> a:\n",
    "     print('b is greater than a')\n"
   ]
  },
  {
   "cell_type": "code",
   "execution_count": 50,
   "id": "aa38ad3f-a189-4fa2-a5ee-89606a8240a0",
   "metadata": {},
   "outputs": [
    {
     "name": "stdout",
     "output_type": "stream",
     "text": [
      "a is greater than b\n"
     ]
    }
   ],
   "source": [
    "a = 8\n",
    "b= 7\n",
    "if b > a:\n",
    "    print('b is greater than a')\n",
    "elif a>b:\n",
    "    print('a is greater than b')"
   ]
  },
  {
   "cell_type": "code",
   "execution_count": 54,
   "id": "2444450a-1b00-44e4-b6f3-6ca5ba2a6a16",
   "metadata": {},
   "outputs": [
    {
     "name": "stdout",
     "output_type": "stream",
     "text": [
      "none is greater\n"
     ]
    }
   ],
   "source": [
    "a = 9\n",
    "b= 9\n",
    "if b>a:\n",
    "    print('b is greater than a')\n",
    "elif a>b:\n",
    "    print('a is greater than b')\n",
    "else:\n",
    "    print('none is greater')"
   ]
  },
  {
   "cell_type": "code",
   "execution_count": 55,
   "id": "f4ba490c-00f0-4042-98b9-8f0ac427c95e",
   "metadata": {},
   "outputs": [
    {
     "name": "stdout",
     "output_type": "stream",
     "text": [
      "B\n"
     ]
    }
   ],
   "source": [
    "a = 100\n",
    "b=76\n",
    "print('A') if a < b else print('B')"
   ]
  },
  {
   "cell_type": "code",
   "execution_count": 57,
   "id": "158edd12-aba1-4b06-9928-257f732d2fee",
   "metadata": {},
   "outputs": [
    {
     "name": "stdout",
     "output_type": "stream",
     "text": [
      "both conditions are true\n"
     ]
    }
   ],
   "source": [
    "a = 100\n",
    "b =90\n",
    "c=120\n",
    "if a > b and c > a:\n",
    "    print('both conditions are true')"
   ]
  },
  {
   "cell_type": "code",
   "execution_count": 59,
   "id": "94055aa6-f7d7-459c-84ec-33f368e7aa5b",
   "metadata": {},
   "outputs": [
    {
     "name": "stdout",
     "output_type": "stream",
     "text": [
      "one of the conditons is true\n"
     ]
    }
   ],
   "source": [
    "a = 100\n",
    "b = 90\n",
    "c = 120\n",
    "if a < b or c > a:\n",
    "    print('one of the conditons is true')\n",
    "    "
   ]
  },
  {
   "cell_type": "code",
   "execution_count": 64,
   "id": "431c3a14-969e-4649-b1eb-b1acbe3b3669",
   "metadata": {},
   "outputs": [
    {
     "name": "stdout",
     "output_type": "stream",
     "text": [
      "Above ten,\n",
      "and also above twenty,\n"
     ]
    }
   ],
   "source": [
    "x = 40\n",
    "\n",
    "\n",
    "if  x > 10:\n",
    "    print('Above ten,')\n",
    "    if x>20:\n",
    "        print('and also above twenty,')\n",
    "    else:\n",
    "        print('but not above twenty.')"
   ]
  },
  {
   "cell_type": "code",
   "execution_count": 67,
   "id": "4c37bc3d-688f-4e83-82a1-5c19f6a21ae3",
   "metadata": {},
   "outputs": [
    {
     "name": "stdout",
     "output_type": "stream",
     "text": [
      "1\n",
      "2\n",
      "3\n",
      "4\n",
      "5\n",
      "6\n",
      "7\n",
      "8\n",
      "9\n"
     ]
    }
   ],
   "source": [
    "# while loop\n",
    "\n",
    "i = 1\n",
    "while i <10:\n",
    "    print(i)\n",
    "    i+=1"
   ]
  },
  {
   "cell_type": "code",
   "execution_count": 3,
   "id": "32edb76d-cf8b-4556-adbe-2e9aba1ad7e1",
   "metadata": {},
   "outputs": [
    {
     "name": "stdout",
     "output_type": "stream",
     "text": [
      "1\n",
      "2\n",
      "3\n",
      "4\n",
      "5\n"
     ]
    }
   ],
   "source": [
    "i = 1\n",
    "while i < 10:\n",
    "    print(i)\n",
    "    if i ==5:\n",
    "     break\n",
    "    i +=1"
   ]
  },
  {
   "cell_type": "code",
   "execution_count": 10,
   "id": "a990b684-86ad-4d5b-ba45-462d38eb231a",
   "metadata": {},
   "outputs": [
    {
     "name": "stdout",
     "output_type": "stream",
     "text": [
      "2\n",
      "4\n",
      "5\n",
      "6\n",
      "7\n",
      "8\n",
      "9\n",
      "10\n"
     ]
    }
   ],
   "source": [
    "i =1 \n",
    "while i < 10:\n",
    "    i += 1\n",
    "    if i ==3:\n",
    "     continue\n",
    "    print(i)\n"
   ]
  },
  {
   "cell_type": "code",
   "execution_count": 4,
   "id": "231ef5d5-ccc9-4e72-9165-906826521bfd",
   "metadata": {},
   "outputs": [
    {
     "name": "stdin",
     "output_type": "stream",
     "text": [
      "Enter the height 6\n",
      "Enter the base 5\n"
     ]
    },
    {
     "name": "stdout",
     "output_type": "stream",
     "text": [
      "Area of a triangle: 15.0\n"
     ]
    }
   ],
   "source": [
    "#functions exercise\n",
    "\n",
    "\n",
    "\n",
    "\n",
    "\n",
    "height =  input('Enter the height') \n",
    "base = input('Enter the base')\n",
    "\n",
    "\n",
    "def calculate_area(height,base):\n",
    "    area = (1/2)*base*height\n",
    "    print('Area of a triangle:', area)\n",
    "\n",
    "calculate_area(6,5)"
   ]
  },
  {
   "cell_type": "code",
   "execution_count": 5,
   "id": "666f47b6-dd9b-4f85-9d0f-497f744fbb0a",
   "metadata": {},
   "outputs": [
    {
     "name": "stdout",
     "output_type": "stream",
     "text": [
      "orange\n",
      "apple\n",
      "banana\n"
     ]
    }
   ],
   "source": [
    "#for loop\n",
    "\n",
    "\n",
    "fruits=['orange','apple','banana']\n",
    "for x in fruits:\n",
    "    print(x)"
   ]
  },
  {
   "cell_type": "code",
   "execution_count": 6,
   "id": "57598a61-3f99-42aa-9b04-b51177073a5a",
   "metadata": {},
   "outputs": [
    {
     "name": "stdout",
     "output_type": "stream",
     "text": [
      "b\n",
      "a\n",
      "n\n",
      "a\n",
      "n\n",
      "a\n"
     ]
    }
   ],
   "source": [
    "# for looping through a string \n",
    "\n",
    "\n",
    "for x in 'banana':\n",
    "    print(x)"
   ]
  },
  {
   "cell_type": "code",
   "execution_count": 9,
   "id": "f86a7b53-25a2-4936-9afd-efe04e7a4684",
   "metadata": {},
   "outputs": [
    {
     "name": "stdout",
     "output_type": "stream",
     "text": [
      "orange\n",
      "apple\n",
      "banana\n"
     ]
    }
   ],
   "source": [
    "fruits=['orange','apple','banana','coconut','watermelon']\n",
    "for x in fruits:\n",
    "    print(x)\n",
    "    if x == 'banana':\n",
    "        break"
   ]
  },
  {
   "cell_type": "code",
   "execution_count": 13,
   "id": "ba3bc6a9-72e5-4fac-a73e-933ec5a82ebb",
   "metadata": {},
   "outputs": [
    {
     "name": "stdout",
     "output_type": "stream",
     "text": [
      "orange\n",
      "apple\n"
     ]
    }
   ],
   "source": [
    "fruits=['orange','apple','banana','coconut','watermelon']\n",
    "for x in fruits:\n",
    "    if x == 'banana':\n",
    "        break\n",
    "    print(x)"
   ]
  },
  {
   "cell_type": "code",
   "execution_count": 14,
   "id": "26805ab4-3d29-47d7-a3cf-9d7dc1ef01d0",
   "metadata": {},
   "outputs": [
    {
     "name": "stdout",
     "output_type": "stream",
     "text": [
      "orange\n",
      "apple\n",
      "coconut\n",
      "watermelon\n"
     ]
    }
   ],
   "source": [
    "fruits=['orange','apple','banana','coconut','watermelon']\n",
    "for x in fruits:\n",
    "    if x == 'banana':\n",
    "        continue\n",
    "    print(x)"
   ]
  },
  {
   "cell_type": "code",
   "execution_count": 17,
   "id": "a101046a-8c9a-4dce-86c7-16ee7bfd78bf",
   "metadata": {},
   "outputs": [
    {
     "name": "stdout",
     "output_type": "stream",
     "text": [
      "0\n",
      "1\n",
      "2\n",
      "3\n",
      "4\n",
      "5\n"
     ]
    }
   ],
   "source": [
    "# for and rangee\n",
    "\n",
    "for x in range (6):\n",
    "    print(x)"
   ]
  },
  {
   "cell_type": "code",
   "execution_count": 18,
   "id": "44dca29f-991b-4a67-8ef5-b3cfb9791c45",
   "metadata": {},
   "outputs": [
    {
     "name": "stdout",
     "output_type": "stream",
     "text": [
      "2\n",
      "3\n",
      "4\n",
      "5\n"
     ]
    }
   ],
   "source": [
    "for x in range (2,6):\n",
    "    print(x)"
   ]
  },
  {
   "cell_type": "code",
   "execution_count": 20,
   "id": "7364ff4c-b7bb-44a0-b282-e38caaa2faf4",
   "metadata": {},
   "outputs": [
    {
     "name": "stdout",
     "output_type": "stream",
     "text": [
      "2\n",
      "5\n",
      "8\n",
      "11\n",
      "14\n",
      "17\n",
      "20\n",
      "23\n",
      "26\n",
      "29\n"
     ]
    }
   ],
   "source": [
    "for x in range (2,30,3):\n",
    "    print(x)"
   ]
  },
  {
   "cell_type": "code",
   "execution_count": 22,
   "id": "d3759b8f-3531-4104-9e3c-58d8f23b03fc",
   "metadata": {},
   "outputs": [
    {
     "name": "stdout",
     "output_type": "stream",
     "text": [
      "0\n",
      "1\n",
      "2\n",
      "3\n",
      "4\n",
      "5\n",
      "Loop is finished!\n"
     ]
    }
   ],
   "source": [
    "for x in range(6):\n",
    "    print(x)\n",
    "else:\n",
    "    print('Loop is finished!')"
   ]
  },
  {
   "cell_type": "code",
   "execution_count": 26,
   "id": "aa2e4ab9-10ed-4b63-b8fc-d1b2f426ca01",
   "metadata": {},
   "outputs": [
    {
     "name": "stdout",
     "output_type": "stream",
     "text": [
      "orange cat\n",
      "orange dog\n",
      "orange hen\n",
      "apple cat\n",
      "apple dog\n",
      "apple hen\n",
      "banana cat\n",
      "banana dog\n",
      "banana hen\n",
      "coconut cat\n",
      "coconut dog\n",
      "coconut hen\n",
      "watermelon cat\n",
      "watermelon dog\n",
      "watermelon hen\n"
     ]
    }
   ],
   "source": [
    "fruits=['orange','apple','banana','coconut','watermelon']\n",
    "pets = ['cat','dog','hen']\n",
    "\n",
    "for x in fruits:\n",
    "    for y in pets:\n",
    "        print(x,y)"
   ]
  },
  {
   "cell_type": "code",
   "execution_count": 28,
   "id": "2fe801c8-8c31-449c-9631-46eb2dcc9edb",
   "metadata": {},
   "outputs": [],
   "source": [
    "for x in [0,1,2]:\n",
    "    pass"
   ]
  },
  {
   "cell_type": "code",
   "execution_count": 13,
   "id": "ca95352d-e08a-4e56-bdb5-563e54ffc8ff",
   "metadata": {},
   "outputs": [],
   "source": [
    "\n",
    "\n",
    "def calculate_area(height,base, shape = 'triangle'):\n",
    "    if shape == 'triangle':\n",
    "        area = (1/2)*height*base\n",
    "        print('Area of the triangle is', area)\n",
    "    elif shape == 'rectangle':\n",
    "        area = base * height\n",
    "        print('Area of the rectangle is: ', area)"
   ]
  },
  {
   "cell_type": "code",
   "execution_count": 16,
   "id": "39f681e2-028d-4569-b645-1755c9bd96c7",
   "metadata": {},
   "outputs": [
    {
     "name": "stdout",
     "output_type": "stream",
     "text": [
      "Area of the rectangle is:  30\n"
     ]
    }
   ],
   "source": [
    "calculate_area(5,6, shape = 'rectangle')"
   ]
  },
  {
   "cell_type": "code",
   "execution_count": 19,
   "id": "9ae76dff-f9a3-47a5-bb69-2a573f3496b4",
   "metadata": {},
   "outputs": [
    {
     "name": "stdout",
     "output_type": "stream",
     "text": [
      "hello world\n"
     ]
    }
   ],
   "source": [
    "##functions \n",
    "\n",
    "def my_function():\n",
    "    print('hello world')\n",
    "my_function()"
   ]
  },
  {
   "cell_type": "code",
   "execution_count": 21,
   "id": "9d85400c-f18d-4982-ae2a-0a4698e1ab24",
   "metadata": {},
   "outputs": [
    {
     "name": "stdout",
     "output_type": "stream",
     "text": [
      "FrankRefsnes\n",
      "Ohene-DarkohRefsnes\n"
     ]
    }
   ],
   "source": [
    "def my_function(fname):\n",
    "    print(fname + 'Refsnes')\n",
    "\n",
    "\n",
    "my_function('Frank')\n",
    "my_function('Ohene-Darkoh')"
   ]
  },
  {
   "cell_type": "code",
   "execution_count": 23,
   "id": "8f036e5a-4ab9-46f6-b931-78354dba0918",
   "metadata": {},
   "outputs": [
    {
     "name": "stdout",
     "output_type": "stream",
     "text": [
      "The youngest child is Rod\n"
     ]
    }
   ],
   "source": [
    "def my_function(*names):\n",
    "    print('The youngest child is ' + names[2])\n",
    "\n",
    "my_function('Frank','Herty','Rod')"
   ]
  },
  {
   "cell_type": "code",
   "execution_count": 26,
   "id": "d4dc0ab3-12b1-444f-ac1c-6c467eb1223c",
   "metadata": {},
   "outputs": [
    {
     "name": "stdout",
     "output_type": "stream",
     "text": [
      "The youngest child is ama\n"
     ]
    }
   ],
   "source": [
    "def my_function(child1,child2,child3):\n",
    "    print('The youngest child is'+ child3)\n",
    "\n",
    "my_function(child1='Frank',child2='kofi', child3=' ama')"
   ]
  },
  {
   "cell_type": "code",
   "execution_count": 30,
   "id": "2d5ee89d-9882-4d68-98f2-7c82b0146dd2",
   "metadata": {},
   "outputs": [
    {
     "name": "stdout",
     "output_type": "stream",
     "text": [
      "The youngest kid is ama\n"
     ]
    }
   ],
   "source": [
    "def my_function(**kid):\n",
    "    print('The youngest kid is' + kid['kid2'])\n",
    "\n",
    "my_function(kid1='frank', kid2=' ama')"
   ]
  },
  {
   "cell_type": "code",
   "execution_count": 31,
   "id": "3865e1a0-b39b-48a5-8e29-cbece0b287e2",
   "metadata": {},
   "outputs": [
    {
     "name": "stdout",
     "output_type": "stream",
     "text": [
      "I am from Sweden\n",
      "I am from India\n",
      "I am from Norway\n",
      "I am from Brazil\n"
     ]
    }
   ],
   "source": [
    "def my_function(country = \"Norway\"):\n",
    "  print(\"I am from \" + country)\n",
    "\n",
    "my_function(\"Sweden\")\n",
    "my_function(\"India\")\n",
    "my_function()\n",
    "my_function(\"Brazil\")"
   ]
  },
  {
   "cell_type": "code",
   "execution_count": 36,
   "id": "12c7ea15-d176-44d3-939c-b2037804efb9",
   "metadata": {},
   "outputs": [
    {
     "name": "stdout",
     "output_type": "stream",
     "text": [
      "['apple', 'orange', 'watermelon']\n"
     ]
    }
   ],
   "source": [
    "def my_function(food):\n",
    "   print(food)\n",
    "\n",
    "fruits=['apple','orange','watermelon']\n",
    "\n",
    "my_function(food = fruits)"
   ]
  },
  {
   "cell_type": "code",
   "execution_count": 43,
   "id": "8eb719c1-937e-4893-b8c2-8919fa2baf37",
   "metadata": {},
   "outputs": [
    {
     "data": {
      "text/plain": [
       "15"
      ]
     },
     "execution_count": 43,
     "metadata": {},
     "output_type": "execute_result"
    }
   ],
   "source": [
    "def my_function(x):\n",
    "    return 5 * x\n",
    "\n",
    "my_function(3)"
   ]
  },
  {
   "cell_type": "code",
   "execution_count": 46,
   "id": "c98b11e2-fdc3-4673-8f84-4329f686843c",
   "metadata": {},
   "outputs": [
    {
     "name": "stdout",
     "output_type": "stream",
     "text": [
      "3\n"
     ]
    }
   ],
   "source": [
    "\n",
    "def my_function(x, /):\n",
    "  print(x)\n",
    "\n",
    "my_function(3)\n",
    "#postional only arguments"
   ]
  },
  {
   "cell_type": "code",
   "execution_count": 48,
   "id": "c6d781d5-3342-49e7-b20b-b914b38df4df",
   "metadata": {},
   "outputs": [
    {
     "name": "stdout",
     "output_type": "stream",
     "text": [
      "15\n"
     ]
    }
   ],
   "source": [
    "###lambda function is a small anonmois function. and can take any number of arguments\n",
    "\n",
    "\n",
    "x = lambda a:a +10\n",
    "print(x(5))"
   ]
  },
  {
   "cell_type": "code",
   "execution_count": 49,
   "id": "0169c13b-dd65-4e9b-8823-7bc8f7286d9e",
   "metadata": {},
   "outputs": [
    {
     "name": "stdout",
     "output_type": "stream",
     "text": [
      "11\n"
     ]
    }
   ],
   "source": [
    "x = lambda a , b : a+ b\n",
    "print(x(5,6))"
   ]
  },
  {
   "cell_type": "code",
   "execution_count": null,
   "id": "7c028229-7e2b-4553-8d7a-b43626388f65",
   "metadata": {},
   "outputs": [],
   "source": [
    "#file handling\n",
    "# keyfunction for working with files in pyhton is the open() function\n",
    "# the open function() takes two parameters filename and mode\n",
    "# four methods for opening a file\n",
    "# r,a,w,x: read, append , write, create\n",
    "\n",
    "\n",
    "f = open('demofile.txt')\n",
    "\n",
    "\n",
    "\n",
    "\n"
   ]
  },
  {
   "cell_type": "code",
   "execution_count": 11,
   "id": "862119c6-b947-40e4-bacf-0203aa83a7cc",
   "metadata": {},
   "outputs": [
    {
     "name": "stdout",
     "output_type": "stream",
     "text": [
      "dlroW olleH\n"
     ]
    }
   ],
   "source": [
    "#coding exercises\n",
    "#a program to reverse a str\n",
    "\n",
    "arr='Hello World'[::-1]\n",
    "print(arr)\n",
    "\n",
    "#we used the slicer"
   ]
  },
  {
   "cell_type": "code",
   "execution_count": 13,
   "id": "e19954d8-8c8c-46ac-8799-7c118a296bae",
   "metadata": {},
   "outputs": [
    {
     "name": "stdout",
     "output_type": "stream",
     "text": [
      "Original string: Hello world\n",
      "Reversed string: dlrow olleH\n"
     ]
    }
   ],
   "source": [
    "def reverse_string(s):\n",
    "    return s[::-1]\n",
    "\n",
    "input_string ='Hello world'\n",
    "reverse_string = reverse_string(input_string)\n",
    "print('Original string:', input_string)\n",
    "print('Reversed string:',reverse_string)\n",
    "\n",
    "#a program to reverse a string"
   ]
  },
  {
   "cell_type": "code",
   "execution_count": 2,
   "id": "6ea912e8-8069-40ac-949f-4ad798f73838",
   "metadata": {},
   "outputs": [
    {
     "name": "stdout",
     "output_type": "stream",
     "text": [
      "The string is a palindrome\n"
     ]
    }
   ],
   "source": [
    "#chcecking for palindrome\n",
    "\n",
    "def is_palindrome(s):\n",
    "    s = s.replace(' ','').lower()\n",
    "    return s ==s[::-1]\n",
    "\n",
    "input_string= 'top spot'\n",
    "if is_palindrome(input_string):\n",
    "    print('The string is a palindrome.')\n",
    "else:\n",
    "    print('The string is not a palindrome.')\n"
   ]
  },
  {
   "cell_type": "code",
   "execution_count": 7,
   "id": "17ba4d3a-95cf-4083-be71-577590573c62",
   "metadata": {},
   "outputs": [
    {
     "name": "stdout",
     "output_type": "stream",
     "text": [
      "The statement is not a palindrome\n"
     ]
    }
   ],
   "source": [
    "def is_palindrome(s):\n",
    "    s= s.replace(' ','').lower()\n",
    "    return s== s[::-1]\n",
    "\n",
    "input_string= 'happy'\n",
    "if is_palindrome(input_string):\n",
    "    print('The statement is a palindrome')\n",
    "else:\n",
    "    print('The statement is not a palindrome')\n",
    "    "
   ]
  },
  {
   "cell_type": "code",
   "execution_count": 18,
   "id": "ebba0b82-a604-447a-8cff-d69909afef6d",
   "metadata": {},
   "outputs": [
    {
     "name": "stdout",
     "output_type": "stream",
     "text": [
      "The number is not a palindrome\n"
     ]
    }
   ],
   "source": [
    "#checking for a palindrome using a number\n",
    "\n",
    "\n",
    "def is_palindrome(number):\n",
    "    num_str = str(number)\n",
    "    return num_str == num_str[::-1]\n",
    "\n",
    "input_number=12325\n",
    "if is_palindrome(input_number):\n",
    "    print('The number is a palindrome')\n",
    "else:\n",
    "    print('The number is not a palindrome')"
   ]
  },
  {
   "cell_type": "code",
   "execution_count": 20,
   "id": "a3636075-8c23-47ba-b696-37eca6542076",
   "metadata": {},
   "outputs": [
    {
     "ename": "SyntaxError",
     "evalue": "invalid syntax (553173610.py, line 3)",
     "output_type": "error",
     "traceback": [
      "\u001b[1;36m  Cell \u001b[1;32mIn[20], line 3\u001b[1;36m\u001b[0m\n\u001b[1;33m    input_word == 'a' || 'e' || 'i' || 'o' || 'u'\u001b[0m\n\u001b[1;37m                       ^\u001b[0m\n\u001b[1;31mSyntaxError\u001b[0m\u001b[1;31m:\u001b[0m invalid syntax\n"
     ]
    }
   ],
   "source": [
    "#counting vowels in a string\n",
    "def vowel_present(vowel):\n",
    "    input_word == 'a' || 'e' || 'i' || 'o' || 'u'\n",
    "    return  input_word.count()\n",
    "\n",
    "input_word='dictionary'\n",
    "if vowel_present(input_word):\n",
    "    print('The word had vowels')\n",
    "else:\n",
    "    print('The word has no vowels')\n",
    "\n",
    "\n"
   ]
  },
  {
   "cell_type": "code",
   "execution_count": null,
   "id": "d28d1985-5082-4fcb-acfe-9bf1e50d8654",
   "metadata": {},
   "outputs": [],
   "source": []
  }
 ],
 "metadata": {
  "kernelspec": {
   "display_name": "Python 3 (ipykernel)",
   "language": "python",
   "name": "python3"
  },
  "language_info": {
   "codemirror_mode": {
    "name": "ipython",
    "version": 3
   },
   "file_extension": ".py",
   "mimetype": "text/x-python",
   "name": "python",
   "nbconvert_exporter": "python",
   "pygments_lexer": "ipython3",
   "version": "3.12.4"
  }
 },
 "nbformat": 4,
 "nbformat_minor": 5
}
