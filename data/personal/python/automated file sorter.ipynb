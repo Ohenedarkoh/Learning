{
 "cells": [
  {
   "cell_type": "code",
   "execution_count": null,
   "id": "e79ea72b-7819-47f8-9228-9b8c883912f4",
   "metadata": {},
   "outputs": [],
   "source": [
    "#automated file sorter in file explorer"
   ]
  },
  {
   "cell_type": "code",
   "execution_count": 1,
   "id": "8d95e49c-c86e-4877-81d0-22b529b88e2f",
   "metadata": {},
   "outputs": [],
   "source": [
    "import os, shutil"
   ]
  },
  {
   "cell_type": "code",
   "execution_count": 9,
   "id": "92f03b23-dd8f-447a-9878-8841bc8d528e",
   "metadata": {},
   "outputs": [],
   "source": [
    "path = r\"C:/Users/ACER/Desktop/data/personal/python/\""
   ]
  },
  {
   "cell_type": "code",
   "execution_count": 14,
   "id": "4d22f274-43f5-45d8-83d3-0312c82a1d24",
   "metadata": {},
   "outputs": [],
   "source": [
    "file_name=os.listdir(path)"
   ]
  },
  {
   "cell_type": "code",
   "execution_count": 37,
   "id": "20fb0dbd-b94b-4143-a9c3-063e1a41bf69",
   "metadata": {},
   "outputs": [
    {
     "ename": "FileExistsError",
     "evalue": "[WinError 183] Cannot create a file when that file already exists: 'C:/Users/ACER/Desktop/data/personal/python/csv files'",
     "output_type": "error",
     "traceback": [
      "\u001b[1;31m---------------------------------------------------------------------------\u001b[0m",
      "\u001b[1;31mFileExistsError\u001b[0m                           Traceback (most recent call last)",
      "Cell \u001b[1;32mIn[37], line 8\u001b[0m\n\u001b[0;32m      6\u001b[0m \u001b[38;5;28;01mif\u001b[39;00m \u001b[38;5;129;01mnot\u001b[39;00m os\u001b[38;5;241m.\u001b[39mpath\u001b[38;5;241m.\u001b[39mexists(path \u001b[38;5;241m+\u001b[39m folder_names[loop]):\n\u001b[0;32m      7\u001b[0m     \u001b[38;5;28mprint\u001b[39m(path \u001b[38;5;241m+\u001b[39m folder_names[loop])\n\u001b[1;32m----> 8\u001b[0m \u001b[43mos\u001b[49m\u001b[38;5;241;43m.\u001b[39;49m\u001b[43mmakedirs\u001b[49m\u001b[43m(\u001b[49m\u001b[43mpath\u001b[49m\u001b[43m \u001b[49m\u001b[38;5;241;43m+\u001b[39;49m\u001b[43m \u001b[49m\u001b[43mfolder_names\u001b[49m\u001b[43m[\u001b[49m\u001b[43mloop\u001b[49m\u001b[43m]\u001b[49m\u001b[43m)\u001b[49m\n",
      "File \u001b[1;32m<frozen os>:225\u001b[0m, in \u001b[0;36mmakedirs\u001b[1;34m(name, mode, exist_ok)\u001b[0m\n",
      "\u001b[1;31mFileExistsError\u001b[0m: [WinError 183] Cannot create a file when that file already exists: 'C:/Users/ACER/Desktop/data/personal/python/csv files'"
     ]
    }
   ],
   "source": [
    "#creating files in folders if they do not \n",
    "\n",
    "folder_names=['csv files', 'image files','text files']\n",
    "\n",
    "for loop in range(0,3):\n",
    "    if not os.path.exists(path + folder_names[loop]):\n",
    "        print(path + folder_names[loop])\n",
    "    os.makedirs(path + folder_names[loop])"
   ]
  },
  {
   "cell_type": "code",
   "execution_count": 38,
   "id": "6c80c3b3-6b46-481e-9fb8-0989ea2752f5",
   "metadata": {},
   "outputs": [],
   "source": [
    "for file in file_name:\n",
    "    if \".csv\" in file and not os.path.exists(path + \"csv files/\" + file):\n",
    "        shutil.move(path + file, path  + \"csv files/\" + file)\n",
    "    if \".PNG\" in file and not os.path.exists(path + \"image files/\" + file):\n",
    "        shutil.move(path + file, path  + \"image files/\" + file)\n",
    "    if \".txt\" in file and not os.path.exists(path + \"txt files/\" + file):\n",
    "        shutil.move(path + file, path  + \"txt files/\" + file)\n",
    " "
   ]
  },
  {
   "cell_type": "code",
   "execution_count": null,
   "id": "023df65f-b2b3-40f7-9465-32079d1ef7a6",
   "metadata": {},
   "outputs": [],
   "source": []
  },
  {
   "cell_type": "code",
   "execution_count": null,
   "id": "a37ecb75-3741-45ac-ad22-a3f81ee31f17",
   "metadata": {},
   "outputs": [],
   "source": []
  },
  {
   "cell_type": "code",
   "execution_count": null,
   "id": "b0023a96-3279-4342-8112-b8e3bbb3f9aa",
   "metadata": {},
   "outputs": [],
   "source": []
  },
  {
   "cell_type": "code",
   "execution_count": null,
   "id": "b6aeb163-e354-45c4-9bb2-746b2f76670b",
   "metadata": {},
   "outputs": [],
   "source": []
  },
  {
   "cell_type": "code",
   "execution_count": null,
   "id": "630338eb-dba9-4bc8-9ff3-b715378805c8",
   "metadata": {},
   "outputs": [],
   "source": []
  },
  {
   "cell_type": "code",
   "execution_count": null,
   "id": "846db5c1-d167-4607-baeb-ada65ec2de96",
   "metadata": {},
   "outputs": [],
   "source": []
  },
  {
   "cell_type": "code",
   "execution_count": null,
   "id": "1a5831ea-3c4c-4bea-8e50-39f95c4e35eb",
   "metadata": {},
   "outputs": [],
   "source": []
  },
  {
   "cell_type": "code",
   "execution_count": null,
   "id": "7d2b8962-838d-409a-974c-ee78ef0282f7",
   "metadata": {},
   "outputs": [],
   "source": []
  },
  {
   "cell_type": "code",
   "execution_count": null,
   "id": "b00bc91a-caf0-4773-9c80-9bab8bb19348",
   "metadata": {},
   "outputs": [],
   "source": []
  },
  {
   "cell_type": "code",
   "execution_count": null,
   "id": "b8219aa8-7733-46db-b33f-216a55557ff0",
   "metadata": {},
   "outputs": [],
   "source": []
  },
  {
   "cell_type": "code",
   "execution_count": null,
   "id": "30d9eeae-2d03-4199-8d8c-a847f57f795c",
   "metadata": {},
   "outputs": [],
   "source": []
  },
  {
   "cell_type": "code",
   "execution_count": null,
   "id": "888d3ab6-050b-470d-8eed-ec4e732b577f",
   "metadata": {},
   "outputs": [],
   "source": []
  },
  {
   "cell_type": "code",
   "execution_count": null,
   "id": "987688ac-abe4-4069-9dfe-4c52ca76fd55",
   "metadata": {},
   "outputs": [],
   "source": []
  },
  {
   "cell_type": "code",
   "execution_count": null,
   "id": "d01ca25d-0afa-4678-8209-81b0d3c108a5",
   "metadata": {},
   "outputs": [],
   "source": []
  },
  {
   "cell_type": "code",
   "execution_count": null,
   "id": "11f36652-7d35-48f7-9f41-c59dd4e6d709",
   "metadata": {},
   "outputs": [],
   "source": []
  },
  {
   "cell_type": "code",
   "execution_count": null,
   "id": "87b99d5c-dc6b-45c6-b87a-169ff3bda96b",
   "metadata": {},
   "outputs": [],
   "source": []
  },
  {
   "cell_type": "code",
   "execution_count": null,
   "id": "f2b31f61-cbb9-4223-a87d-fa655e8b5510",
   "metadata": {},
   "outputs": [],
   "source": []
  }
 ],
 "metadata": {
  "kernelspec": {
   "display_name": "Python 3 (ipykernel)",
   "language": "python",
   "name": "python3"
  },
  "language_info": {
   "codemirror_mode": {
    "name": "ipython",
    "version": 3
   },
   "file_extension": ".py",
   "mimetype": "text/x-python",
   "name": "python",
   "nbconvert_exporter": "python",
   "pygments_lexer": "ipython3",
   "version": "3.12.4"
  }
 },
 "nbformat": 4,
 "nbformat_minor": 5
}
