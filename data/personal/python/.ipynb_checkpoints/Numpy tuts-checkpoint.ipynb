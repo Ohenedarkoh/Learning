{
 "cells": [
  {
   "cell_type": "code",
   "execution_count": 1,
   "id": "70c08c2d-d855-47ec-be5b-3adb5218e843",
   "metadata": {},
   "outputs": [
    {
     "name": "stdout",
     "output_type": "stream",
     "text": [
      "[1 2 3 4 5]\n",
      "<class 'numpy.ndarray'>\n"
     ]
    }
   ],
   "source": [
    "#Create a NumPy ndarray Object\n",
    "\n",
    "import numpy as np\n",
    "\n",
    "arr = np.array([1,2,3,4,5])\n",
    "\n",
    "print(arr)\n",
    "\n",
    "print(type(arr))"
   ]
  },
  {
   "cell_type": "code",
   "execution_count": 4,
   "id": "3661359b-069e-4f19-8480-dcdb649c5c82",
   "metadata": {},
   "outputs": [
    {
     "name": "stdout",
     "output_type": "stream",
     "text": [
      "42\n",
      "[1 2 3 4 5]\n",
      "[[1 2 3]\n",
      " [4 5 6]]\n",
      "[[[1 2 3]\n",
      "  [4 5 6]]\n",
      "\n",
      " [[7 8 9]\n",
      "  [2 3 4]]]\n"
     ]
    }
   ],
   "source": [
    "#Dimensions in Arrays\n",
    "#A dimension in arrays is one level of array depth (nested arrays).\n",
    "#0-D array\n",
    "\n",
    "import numpy as np\n",
    "\n",
    "arr = np.array(42)\n",
    "print(arr)\n",
    "\n",
    "#1-d array\n",
    "\n",
    "arr = np.array([1,2,3,4,5])\n",
    "print(arr)\n",
    "\n",
    "\n",
    "#2-D array\t\n",
    "\n",
    "arr = np.array([[1,2,3],[4,5,6]])\n",
    "print(arr)\n",
    "\n",
    "\n",
    "#3-D array\n",
    "\n",
    "arr = np.array([[[1,2,3],[4,5,6]],[[7,8,9],[2,3,4]]])\n",
    "print(arr)\n",
    "\n"
   ]
  },
  {
   "cell_type": "code",
   "execution_count": 6,
   "id": "b8792c9a-c62b-4c07-9e9d-8ac0c39d806f",
   "metadata": {},
   "outputs": [
    {
     "name": "stdout",
     "output_type": "stream",
     "text": [
      "0\n",
      "1\n",
      "2\n",
      "3\n"
     ]
    }
   ],
   "source": [
    "#\n",
    "#Check Number of Dimensions?\n",
    "#NumPy Arrays provides the ndim attribute that returns an integer that tells us how many dimensions the array have.\n",
    "\n",
    "import numpy as np\n",
    "\n",
    "a = np.array(32)\n",
    "b = np.array([1,2,3,4,5])\n",
    "c = np.array([[1,2,3],[3,4,5]])\n",
    "d= np.array ([[[1,2,3],[4,5,6]],[[7,8,9],[1,2,3]]])\n",
    "\n",
    "\n",
    "print(a.ndim)\n",
    "print(b.ndim)\n",
    "print(c.ndim)\n",
    "print(d.ndim)\n",
    "\n"
   ]
  },
  {
   "cell_type": "code",
   "execution_count": 8,
   "id": "a2a9d705-43bf-4230-bb56-394227e2c41d",
   "metadata": {},
   "outputs": [
    {
     "name": "stdout",
     "output_type": "stream",
     "text": [
      "[1 2 3 4 5]\n",
      "number of dimensions: 1\n"
     ]
    }
   ],
   "source": [
    "#Higher Dimensional Arrays\n",
    "#An array can have any number of dimensions.\n",
    "\n",
    "#When the array is created, you can define the number of dimensions by using the ndmin argument.\n",
    "\n",
    "\n",
    "import numpy as np\n",
    "\n",
    "arr = np.array([1,2,3,4,5])\n",
    "\n",
    "print(arr)\n",
    "\n",
    "print('number of dimensions:', arr.ndim)"
   ]
  },
  {
   "cell_type": "code",
   "execution_count": 9,
   "id": "22465b7f-f54f-401a-bff9-ace829158667",
   "metadata": {},
   "outputs": [
    {
     "name": "stdout",
     "output_type": "stream",
     "text": [
      "3\n"
     ]
    }
   ],
   "source": [
    "# accessing array elements\n",
    "\n",
    "import numpy as np\n",
    "\n",
    "arr = np.array([1,2,3,4,5])\n",
    "print(arr[2])"
   ]
  },
  {
   "cell_type": "code",
   "execution_count": 10,
   "id": "b44223eb-30d6-46e0-a785-f24f3d5e4b91",
   "metadata": {},
   "outputs": [
    {
     "name": "stdout",
     "output_type": "stream",
     "text": [
      "5\n"
     ]
    }
   ],
   "source": [
    "arr = np.array([1,2,3,4,5])\n",
    "print(arr[2] + arr[1])"
   ]
  },
  {
   "cell_type": "code",
   "execution_count": 11,
   "id": "6e72370e-bf12-4c3b-a3ee-1f9ef7a4fef6",
   "metadata": {},
   "outputs": [
    {
     "name": "stdout",
     "output_type": "stream",
     "text": [
      "2nd element on 1st row: 2\n"
     ]
    }
   ],
   "source": [
    " arr = np.array([[1,2,3],[4,5,6]])\n",
    "print('2nd element on 1st row:', arr[0,1])"
   ]
  },
  {
   "cell_type": "code",
   "execution_count": 15,
   "id": "39e0a978-28e7-434e-ac4a-4475dea1e990",
   "metadata": {},
   "outputs": [
    {
     "name": "stdout",
     "output_type": "stream",
     "text": [
      "5th element on the 2nd row: 10\n"
     ]
    }
   ],
   "source": [
    " arr = np.array([[1,2,3,4,5],[6,7,8,9,10]])\n",
    "print('5th element on the 2nd row:',arr[1,4])"
   ]
  },
  {
   "cell_type": "code",
   "execution_count": 16,
   "id": "47f029c1-0bec-48d3-ba34-40565decc7fa",
   "metadata": {},
   "outputs": [
    {
     "name": "stdout",
     "output_type": "stream",
     "text": [
      "Last element from 2nd dim:  10\n"
     ]
    }
   ],
   "source": [
    "arr = np.array([[1,2,3,4,5], [6,7,8,9,10]])\n",
    "\n",
    "print('Last element from 2nd dim: ', arr[1, -1])"
   ]
  },
  {
   "cell_type": "code",
   "execution_count": 17,
   "id": "68f3bcd5-54f7-45af-a92a-b11eb00d6c08",
   "metadata": {},
   "outputs": [
    {
     "name": "stdout",
     "output_type": "stream",
     "text": [
      "[2 3 4 5]\n"
     ]
    }
   ],
   "source": [
    " arr = np.array([1,2,3,4,5,6,7])\n",
    "print(arr[1:5])"
   ]
  },
  {
   "cell_type": "code",
   "execution_count": 18,
   "id": "ffc21c08-2bdb-47e6-ad96-23eb4d9b67d2",
   "metadata": {},
   "outputs": [
    {
     "name": "stdout",
     "output_type": "stream",
     "text": [
      "[5 6 7]\n"
     ]
    }
   ],
   "source": [
    "arr = np.array([1, 2, 3, 4, 5, 6, 7])\n",
    "\n",
    "print(arr[4:])"
   ]
  },
  {
   "cell_type": "code",
   "execution_count": 19,
   "id": "425f28ae-03ab-45d1-a3eb-aa64b2c81dd5",
   "metadata": {},
   "outputs": [
    {
     "name": "stdout",
     "output_type": "stream",
     "text": [
      "[1 2 3 4]\n"
     ]
    }
   ],
   "source": [
    "arr = np.array([1, 2, 3, 4, 5, 6, 7])\n",
    "\n",
    "print(arr[:4])"
   ]
  },
  {
   "cell_type": "code",
   "execution_count": 20,
   "id": "eed40a12-c9ff-4f52-b4b7-b0e81ee7668f",
   "metadata": {},
   "outputs": [
    {
     "name": "stdout",
     "output_type": "stream",
     "text": [
      "[5 6]\n"
     ]
    }
   ],
   "source": [
    "arr = np.array([1, 2, 3, 4, 5, 6, 7])\n",
    "\n",
    "print(arr[-3:-1])"
   ]
  },
  {
   "cell_type": "code",
   "execution_count": 21,
   "id": "e557cf9d-04c3-4a57-b041-71f0386f74d8",
   "metadata": {},
   "outputs": [
    {
     "name": "stdout",
     "output_type": "stream",
     "text": [
      "[1 3 5 7]\n"
     ]
    }
   ],
   "source": [
    "\n",
    "arr = np.array([1, 2, 3, 4, 5, 6, 7])\n",
    "\n",
    "print(arr[::2])"
   ]
  },
  {
   "cell_type": "code",
   "execution_count": 22,
   "id": "11056f9c-6825-440f-ad05-f60b0952a587",
   "metadata": {},
   "outputs": [
    {
     "name": "stdout",
     "output_type": "stream",
     "text": [
      "[2 4]\n"
     ]
    }
   ],
   "source": [
    "\n",
    "arr = np.array([1, 2, 3, 4, 5, 6, 7])\n",
    "\n",
    "print(arr[1:5:2])"
   ]
  },
  {
   "cell_type": "code",
   "execution_count": 44,
   "id": "05d0e134-a660-4201-829d-7a49453ca49d",
   "metadata": {},
   "outputs": [
    {
     "name": "stdout",
     "output_type": "stream",
     "text": [
      "[42  2  3  4  5]\n",
      "[1 2 3 4 5]\n"
     ]
    }
   ],
   "source": [
    "arr =np.array([1,2,3,4,5])\n",
    "x= arr.copy()\n",
    "arr[0]= 42\n",
    "print(arr)\n",
    "print(x)"
   ]
  },
  {
   "cell_type": "code",
   "execution_count": 31,
   "id": "a8a38b7c-8252-4728-981e-8a7e00eeded6",
   "metadata": {},
   "outputs": [
    {
     "name": "stdout",
     "output_type": "stream",
     "text": [
      "[1 2 3 4 5 6]\n"
     ]
    }
   ],
   "source": [
    "#joining arrays using concatenate()\n",
    "\n",
    "arr1 = np.array([1, 2, 3])\n",
    "\n",
    "arr2 = np.array([4, 5, 6])\n",
    "\n",
    "arr = np.concatenate((arr1, arr2))\n",
    "\n",
    "print(arr)"
   ]
  },
  {
   "cell_type": "code",
   "execution_count": 32,
   "id": "8447297e-866a-431d-9ce7-72ea6bc3a9a7",
   "metadata": {},
   "outputs": [
    {
     "name": "stdout",
     "output_type": "stream",
     "text": [
      "[array([1, 2]), array([3, 4]), array([5, 6])]\n"
     ]
    }
   ],
   "source": [
    "arr = np.array([1, 2, 3, 4, 5, 6])\n",
    "\n",
    "newarr = np.array_split(arr, 3)\n",
    "\n",
    "print(newarr)"
   ]
  },
  {
   "cell_type": "code",
   "execution_count": 42,
   "id": "24047fea-970e-46fb-9f28-98de386381ee",
   "metadata": {},
   "outputs": [
    {
     "name": "stdout",
     "output_type": "stream",
     "text": [
      "[array([1, 2]), array([3, 4]), array([5]), array([6])]\n"
     ]
    }
   ],
   "source": [
    "arr = np.array([1, 2, 3, 4, 5, 6])\n",
    "\n",
    "newarr = np.array_split(arr, 4)\n",
    "\n",
    "print(newarr)"
   ]
  },
  {
   "cell_type": "code",
   "execution_count": 34,
   "id": "75875cb8-794d-40d3-b31f-9c54d7bcb2d5",
   "metadata": {},
   "outputs": [
    {
     "name": "stdout",
     "output_type": "stream",
     "text": [
      "[1 2]\n",
      "[3 4]\n",
      "[5 6]\n"
     ]
    }
   ],
   "source": [
    "\n",
    "arr = np.array([1, 2, 3, 4, 5, 6])\n",
    "\n",
    "newarr = np.array_split(arr, 3)\n",
    "\n",
    "print(newarr[0])\n",
    "print(newarr[1])\n",
    "print(newarr[2])"
   ]
  },
  {
   "cell_type": "code",
   "execution_count": 35,
   "id": "0e37082e-ccc5-4749-849a-7289d66b927e",
   "metadata": {},
   "outputs": [
    {
     "name": "stdout",
     "output_type": "stream",
     "text": [
      "[array([1, 2]), array([3, 4]), array([5, 6])]\n"
     ]
    }
   ],
   "source": [
    "arr = np.array([1,2,3,4,5,6])\n",
    "newarr = np.array_split(arr,3)\n",
    "print(newarr)"
   ]
  },
  {
   "cell_type": "code",
   "execution_count": 36,
   "id": "a3a902ea-95c1-4897-9bfd-f320b46644cf",
   "metadata": {},
   "outputs": [
    {
     "name": "stdout",
     "output_type": "stream",
     "text": [
      "(array([4], dtype=int64),)\n"
     ]
    }
   ],
   "source": [
    "arr = np.array([1,2,3,4,5])\n",
    "newarr=np.where(arr==5)\n",
    "print(newarr)"
   ]
  },
  {
   "cell_type": "code",
   "execution_count": 38,
   "id": "4ee0ce7e-e2c9-4a2c-a8d5-06d0209774a9",
   "metadata": {},
   "outputs": [
    {
     "name": "stdout",
     "output_type": "stream",
     "text": [
      "True\n",
      "True\n",
      "False\n",
      "True\n"
     ]
    }
   ],
   "source": [
    "arr = np.array([1,1,0,1,0])\n",
    "newarr = arr.astype(bool)\n",
    "print(newarr[0])\n",
    "print(newarr[1])\n",
    "print(newarr[2])\n",
    "print(newarr[3])"
   ]
  },
  {
   "cell_type": "code",
   "execution_count": 58,
   "id": "df73286f-ce2a-4d06-ba35-9f742919c4f9",
   "metadata": {},
   "outputs": [
    {
     "name": "stdout",
     "output_type": "stream",
     "text": [
      "[',' '2' ',' '4' ',' '6' ',' '8' ',' '10']\n"
     ]
    }
   ],
   "source": [
    "arr = np.array([1,2,3,4,5,6,7,8,9,10])\n",
    "evenNumbers = np.where(arr% 2 == 0,arr,',')\n",
    "print(evenNumbers)\n",
    "#index of even numbers"
   ]
  },
  {
   "cell_type": "code",
   "execution_count": null,
   "id": "2f35941a-0a32-4b71-90f5-244b3ac24d8b",
   "metadata": {},
   "outputs": [],
   "source": []
  }
 ],
 "metadata": {
  "kernelspec": {
   "display_name": "Python 3 (ipykernel)",
   "language": "python",
   "name": "python3"
  },
  "language_info": {
   "codemirror_mode": {
    "name": "ipython",
    "version": 3
   },
   "file_extension": ".py",
   "mimetype": "text/x-python",
   "name": "python",
   "nbconvert_exporter": "python",
   "pygments_lexer": "ipython3",
   "version": "3.12.4"
  }
 },
 "nbformat": 4,
 "nbformat_minor": 5
}
