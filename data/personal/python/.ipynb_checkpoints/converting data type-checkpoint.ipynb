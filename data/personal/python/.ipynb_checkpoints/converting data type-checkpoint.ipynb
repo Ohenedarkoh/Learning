{
 "cells": [
  {
   "cell_type": "code",
   "execution_count": 1,
   "id": "22e5a918-49af-4e1c-8037-5ea1e15cb53e",
   "metadata": {},
   "outputs": [
    {
     "data": {
      "text/plain": [
       "int"
      ]
     },
     "execution_count": 1,
     "metadata": {},
     "output_type": "execute_result"
    }
   ],
   "source": [
    "#converting data types\n",
    "\n",
    "num_int= 7\n",
    "type(num_int)"
   ]
  },
  {
   "cell_type": "code",
   "execution_count": 2,
   "id": "7b91cdcc-dc80-4bb3-8e89-c7978fd77427",
   "metadata": {},
   "outputs": [
    {
     "data": {
      "text/plain": [
       "str"
      ]
     },
     "execution_count": 2,
     "metadata": {},
     "output_type": "execute_result"
    }
   ],
   "source": [
    "num_str='7'\n",
    "type(num_str)"
   ]
  },
  {
   "cell_type": "code",
   "execution_count": 5,
   "id": "fed87260-e904-4be4-b883-144e3f394ad4",
   "metadata": {},
   "outputs": [
    {
     "data": {
      "text/plain": [
       "int"
      ]
     },
     "execution_count": 5,
     "metadata": {},
     "output_type": "execute_result"
    }
   ],
   "source": [
    "num_str_conv= int(num_str)\n",
    "type(num_str_conv)"
   ]
  },
  {
   "cell_type": "code",
   "execution_count": 6,
   "id": "443dc457-4f71-479b-88eb-31b5808cf4e9",
   "metadata": {},
   "outputs": [
    {
     "name": "stdout",
     "output_type": "stream",
     "text": [
      "14\n"
     ]
    }
   ],
   "source": [
    "num_sum= num_int + num_str_conv\n",
    "print(num_sum)"
   ]
  },
  {
   "cell_type": "code",
   "execution_count": 7,
   "id": "56766069-c604-46a4-ad61-79c95f4ca61b",
   "metadata": {},
   "outputs": [
    {
     "data": {
      "text/plain": [
       "int"
      ]
     },
     "execution_count": 7,
     "metadata": {},
     "output_type": "execute_result"
    }
   ],
   "source": [
    "type(num_sum)"
   ]
  },
  {
   "cell_type": "code",
   "execution_count": 11,
   "id": "52a9132e-8664-4383-8102-bd8bffa354ac",
   "metadata": {},
   "outputs": [
    {
     "data": {
      "text/plain": [
       "list"
      ]
     },
     "execution_count": 11,
     "metadata": {},
     "output_type": "execute_result"
    }
   ],
   "source": [
    "list_type= [1,2,3]\n",
    "type(list_type)"
   ]
  },
  {
   "cell_type": "code",
   "execution_count": 13,
   "id": "57f944d9-3969-4bda-9bea-988cee22f568",
   "metadata": {},
   "outputs": [
    {
     "data": {
      "text/plain": [
       "tuple"
      ]
     },
     "execution_count": 13,
     "metadata": {},
     "output_type": "execute_result"
    }
   ],
   "source": [
    "type(tuple(list_type))"
   ]
  },
  {
   "cell_type": "code",
   "execution_count": 15,
   "id": "cd74d773-9f09-46f2-8cb6-e39f7296d8d7",
   "metadata": {},
   "outputs": [
    {
     "data": {
      "text/plain": [
       "{1, 2, 3, 4}"
      ]
     },
     "execution_count": 15,
     "metadata": {},
     "output_type": "execute_result"
    }
   ],
   "source": [
    "list_type= [1,2,3,3,4,2,3,4,2]\n",
    "set(list_type)"
   ]
  },
  {
   "cell_type": "code",
   "execution_count": 16,
   "id": "c55831dc-3d94-4692-83a8-e50977d4b204",
   "metadata": {},
   "outputs": [
    {
     "data": {
      "text/plain": [
       "set"
      ]
     },
     "execution_count": 16,
     "metadata": {},
     "output_type": "execute_result"
    }
   ],
   "source": [
    "type(set(list_type))"
   ]
  },
  {
   "cell_type": "code",
   "execution_count": 19,
   "id": "92e589f0-f9d8-4a27-801b-13c26cbe8996",
   "metadata": {},
   "outputs": [
    {
     "data": {
      "text/plain": [
       "dict"
      ]
     },
     "execution_count": 19,
     "metadata": {},
     "output_type": "execute_result"
    }
   ],
   "source": [
    "dict_type={'name': ' frank', 'age': 23, 'hair': 'n/a'}\n",
    "type(dict_type)"
   ]
  },
  {
   "cell_type": "code",
   "execution_count": 20,
   "id": "3f158f2e-47ed-4391-8746-06b7786591c2",
   "metadata": {},
   "outputs": [
    {
     "data": {
      "text/plain": [
       "dict_items([('name', ' frank'), ('age', 23), ('hair', 'n/a')])"
      ]
     },
     "execution_count": 20,
     "metadata": {},
     "output_type": "execute_result"
    }
   ],
   "source": [
    "dict_type.items()"
   ]
  },
  {
   "cell_type": "code",
   "execution_count": 21,
   "id": "3c509b07-408a-4000-a386-7aade6c07379",
   "metadata": {},
   "outputs": [
    {
     "data": {
      "text/plain": [
       "dict_values([' frank', 23, 'n/a'])"
      ]
     },
     "execution_count": 21,
     "metadata": {},
     "output_type": "execute_result"
    }
   ],
   "source": [
    "dict_type.values()"
   ]
  },
  {
   "cell_type": "code",
   "execution_count": 22,
   "id": "749cfd23-9eca-4a5b-8755-217940df1e98",
   "metadata": {},
   "outputs": [
    {
     "data": {
      "text/plain": [
       "dict_keys(['name', 'age', 'hair'])"
      ]
     },
     "execution_count": 22,
     "metadata": {},
     "output_type": "execute_result"
    }
   ],
   "source": [
    "dict_type.keys()"
   ]
  },
  {
   "cell_type": "code",
   "execution_count": 26,
   "id": "b5822a12-4099-47bc-9e2c-1b8e33bad16d",
   "metadata": {},
   "outputs": [
    {
     "data": {
      "text/plain": [
       "list"
      ]
     },
     "execution_count": 26,
     "metadata": {},
     "output_type": "execute_result"
    }
   ],
   "source": [
    "type(list(dict_type.keys()))"
   ]
  },
  {
   "cell_type": "code",
   "execution_count": 27,
   "id": "f66717bf-7212-4ad1-989c-6833578053da",
   "metadata": {},
   "outputs": [
    {
     "data": {
      "text/plain": [
       "list"
      ]
     },
     "execution_count": 27,
     "metadata": {},
     "output_type": "execute_result"
    }
   ],
   "source": [
    "type(list(dict_type.values()))"
   ]
  },
  {
   "cell_type": "code",
   "execution_count": 28,
   "id": "25208da5-fa86-4d8a-9322-9c4621dff403",
   "metadata": {},
   "outputs": [
    {
     "data": {
      "text/plain": [
       "[' ',\n",
       " 'i',\n",
       " ' ',\n",
       " 'l',\n",
       " 'i',\n",
       " 'k',\n",
       " 'e',\n",
       " ' ',\n",
       " 't',\n",
       " 'o',\n",
       " ' ',\n",
       " 'p',\n",
       " 'a',\n",
       " 'r',\n",
       " 't',\n",
       " 'y']"
      ]
     },
     "execution_count": 28,
     "metadata": {},
     "output_type": "execute_result"
    }
   ],
   "source": [
    "long_str = ' i like to party'\n",
    "\n",
    "list(long_str)"
   ]
  },
  {
   "cell_type": "code",
   "execution_count": 29,
   "id": "a94714d0-1798-432d-a492-6fb4f5a8394d",
   "metadata": {},
   "outputs": [
    {
     "data": {
      "text/plain": [
       "int"
      ]
     },
     "execution_count": 29,
     "metadata": {},
     "output_type": "execute_result"
    }
   ],
   "source": [
    "\n",
    "\n",
    "num_int= 7\n",
    "type(num_str)"
   ]
  },
  {
   "cell_type": "code",
   "execution_count": 30,
   "id": "5781ce5e-c1fc-4b69-a077-55f66fbbfafe",
   "metadata": {},
   "outputs": [
    {
     "data": {
      "text/plain": [
       "str"
      ]
     },
     "execution_count": 30,
     "metadata": {},
     "output_type": "execute_result"
    }
   ],
   "source": [
    "num_str='7'\n",
    "type(num_str)"
   ]
  },
  {
   "cell_type": "code",
   "execution_count": 33,
   "id": "708b3dca-ba4d-4107-962c-ec5db96adc35",
   "metadata": {},
   "outputs": [
    {
     "data": {
      "text/plain": [
       "str"
      ]
     },
     "execution_count": 33,
     "metadata": {},
     "output_type": "execute_result"
    }
   ],
   "source": [
    "num_str_conv= int(num_int)\n",
    "type(num_str)"
   ]
  },
  {
   "cell_type": "code",
   "execution_count": null,
   "id": "40e872eb-1af7-4b5d-b13c-43ec1964a48c",
   "metadata": {},
   "outputs": [],
   "source": []
  }
 ],
 "metadata": {
  "kernelspec": {
   "display_name": "Python 3 (ipykernel)",
   "language": "python",
   "name": "python3"
  },
  "language_info": {
   "codemirror_mode": {
    "name": "ipython",
    "version": 3
   },
   "file_extension": ".py",
   "mimetype": "text/x-python",
   "name": "python",
   "nbconvert_exporter": "python",
   "pygments_lexer": "ipython3",
   "version": "3.12.4"
  }
 },
 "nbformat": 4,
 "nbformat_minor": 5
}
