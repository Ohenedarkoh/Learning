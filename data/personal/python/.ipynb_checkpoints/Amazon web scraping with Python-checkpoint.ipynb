{
 "cells": [
  {
   "cell_type": "code",
   "execution_count": 12,
   "id": "6b6da894-050e-4a94-8822-11c916233a40",
   "metadata": {},
   "outputs": [],
   "source": [
    "#Amazon Web scraping using python"
   ]
  },
  {
   "cell_type": "code",
   "execution_count": null,
   "id": "a375b133-3ded-4b8b-913f-1a445fea111e",
   "metadata": {},
   "outputs": [],
   "source": [
    "from bs4 import BeautifulSoup\n",
    "import requests\n",
    "import time \n",
    "import datetime\n",
    "import smtplib\n",
    "\n",
    "#import necessary libraries"
   ]
  },
  {
   "cell_type": "code",
   "execution_count": null,
   "id": "6099ce76-3056-450e-9ab2-49a5943ef1a9",
   "metadata": {},
   "outputs": [],
   "source": [
    "# connecting to website\n",
    "\n",
    "url ='https://www.amazon.com/Funny-Data-Systems-Business-Analyst/dp/B07FNW9FGJ/ref=sr_1_3?dchild=1&keywords=data%2Banalyst%2Btshirt&qid=1626655184&sr=8-3&customId=B0752XJYNL&th=1'\n",
    "\n",
    "\n",
    "\n",
    "headers = { \"User-Agent\": \"Mozilla/5.0 (Windows NT 10.0; Win64; x64) AppleWebKit/537.36 (KHTML, like Gecko) Chrome/131.0.0.0 Safari/537.36\"}\n",
    "\n",
    "\n",
    "page = requests.get(url, headers = headers)\n",
    "\n",
    "\n",
    "soup1 = BeautifulSoup(page.content, \"html.parser\")\n",
    "\n",
    "\n",
    "soup2 = BeautifulSoup(soup1.prettify(), \"html.parser\")\n",
    "\n",
    "\n",
    "title = soup2.find(id= \"priceblock_ourprice\").get_text()\n",
    "\n",
    "\n",
    "price = soup2.find(id= \"productTitle\").get_text()\n",
    "\n",
    "print(title)\n",
    "print(price)\n",
    "\n",
    "\n"
   ]
  },
  {
   "cell_type": "code",
   "execution_count": null,
   "id": "c249efb4-0985-49bb-9e0d-c66aaaf5cbcf",
   "metadata": {},
   "outputs": [],
   "source": [
    "price.strip()"
   ]
  },
  {
   "cell_type": "code",
   "execution_count": null,
   "id": "97cfdd78-a716-4a31-ae9b-08b802bcce14",
   "metadata": {},
   "outputs": [],
   "source": []
  },
  {
   "cell_type": "code",
   "execution_count": null,
   "id": "5b5c608d-ad8b-444e-a7f3-0f9c41ff869a",
   "metadata": {},
   "outputs": [],
   "source": []
  },
  {
   "cell_type": "code",
   "execution_count": null,
   "id": "fea8f036-08a0-4364-b9a9-c3e6409c829a",
   "metadata": {},
   "outputs": [],
   "source": []
  },
  {
   "cell_type": "code",
   "execution_count": null,
   "id": "1bc90f1a-2f3f-4c30-ae66-a9c23f914ef8",
   "metadata": {},
   "outputs": [],
   "source": []
  }
 ],
 "metadata": {
  "kernelspec": {
   "display_name": "Python 3 (ipykernel)",
   "language": "python",
   "name": "python3"
  },
  "language_info": {
   "codemirror_mode": {
    "name": "ipython",
    "version": 3
   },
   "file_extension": ".py",
   "mimetype": "text/x-python",
   "name": "python",
   "nbconvert_exporter": "python",
   "pygments_lexer": "ipython3",
   "version": "3.12.4"
  }
 },
 "nbformat": 4,
 "nbformat_minor": 5
}
