{
 "cells": [
  {
   "cell_type": "code",
   "execution_count": 4,
   "id": "95135685-d316-48fe-b516-9a9b96b8e19e",
   "metadata": {},
   "outputs": [
    {
     "name": "stdout",
     "output_type": "stream",
     "text": [
      "Frank Omari\n",
      "Wecome Frank Omari to the class of 24\n"
     ]
    }
   ],
   "source": [
    "#classes and inheritance\n",
    "class Person():\n",
    "  def __init__(self,firstname,lastname):\n",
    "    self.firstname = firstname\n",
    "    self.lastname = lastname \n",
    "\n",
    "  def printname(self):\n",
    "    print(self.firstname, self.lastname)\n",
    "\n",
    "class student(Person):\n",
    "   def __init__(self,firstname,lastname,year):\n",
    "    super(). __init__(firstname,lastname)\n",
    "    self.graduationyear = year\n",
    "\n",
    "\n",
    "   def welcome(self):\n",
    "     print(\"Wecome\",self.firstname,self.lastname,\"to the class of\", self.graduationyear)\n",
    "\n",
    "\n",
    "x = student(\"Frank\", \"Omari\",24)\n",
    "x.printname() \n",
    "x.welcome()\n"
   ]
  },
  {
   "cell_type": "code",
   "execution_count": 11,
   "id": "f32690d6-d8a8-47ec-964b-f0d5345a194d",
   "metadata": {},
   "outputs": [
    {
     "name": "stdout",
     "output_type": "stream",
     "text": [
      "1\n",
      "2\n",
      "3\n",
      "4\n",
      "5\n"
     ]
    }
   ],
   "source": [
    "#iterators\n",
    "\n",
    "class MyNumbers():\n",
    "\n",
    "   def __iter__(self):\n",
    "      self.a = 1\n",
    "      return self\n",
    "\n",
    "   def __next__(self):\n",
    "       x = self.a\n",
    "       self.a +=1\n",
    "       return x\n",
    "\n",
    "myclass = MyNumbers()\n",
    "myiter = iter(myclass)\n",
    "\n",
    "\n",
    "print(next(myiter))\n",
    "print(next(myiter))\n",
    "print(next(myiter))\n",
    "print(next(myiter))\n",
    "print(next(myiter))\n"
   ]
  },
  {
   "cell_type": "code",
   "execution_count": 6,
   "id": "37600840-06b8-4a28-986f-346b244c7b60",
   "metadata": {},
   "outputs": [
    {
     "name": "stdout",
     "output_type": "stream",
     "text": [
      "1\n",
      "2\n",
      "3\n",
      "4\n",
      "5\n",
      "6\n",
      "7\n",
      "8\n",
      "9\n",
      "10\n",
      "11\n",
      "12\n",
      "13\n",
      "14\n",
      "15\n",
      "16\n",
      "17\n",
      "18\n",
      "19\n",
      "20\n"
     ]
    }
   ],
   "source": [
    "# stopping iterations\n",
    "\n",
    "class myNumbers():\n",
    "   def __init__(self):\n",
    "    self.a = 1\n",
    "\n",
    "   def __iter__(self):\n",
    "       return self\n",
    "  \n",
    "\n",
    "   def __next__(self):\n",
    "    if self.a<=20:\n",
    "       x = self.a\n",
    "       self.a += 1\n",
    "       return x\n",
    "    else :\n",
    "      raise StopIteration\n",
    "\n",
    "\n",
    "myclass = myNumbers()\n",
    "myiter = iter(myclass)\n",
    "\n",
    "\n",
    "for x in myiter:\n",
    "\tprint(x)\n"
   ]
  },
  {
   "cell_type": "code",
   "execution_count": 16,
   "id": "ca937c97-7879-4abe-a2a6-a9c67ccd625a",
   "metadata": {},
   "outputs": [
    {
     "name": "stdout",
     "output_type": "stream",
     "text": [
      "5\n",
      "76\n",
      "7.8\n",
      "64\n"
     ]
    }
   ],
   "source": [
    "#math\n",
    "\n",
    "x  = min(5,10,14)\n",
    "y = max(17,2, 76)\n",
    "\n",
    "\n",
    "print(x)\n",
    "print(y)\n",
    "\n",
    "\n",
    "\n",
    "x = abs(-7.8)\n",
    "print(x)\n",
    "\n",
    "\n",
    "x = pow(2,6)\n",
    "print(x)\n",
    "\n"
   ]
  },
  {
   "cell_type": "code",
   "execution_count": null,
   "id": "4878008f-05c3-4f6b-8155-26f5cb028d22",
   "metadata": {},
   "outputs": [],
   "source": [
    "#file handling\n",
    "\n",
    "#rawx\n",
    "#r - read \n",
    "#a- append\n",
    "#w- write\n",
    "#x - create\n",
    "\n",
    "#t - text\n",
    "#b - binary\n",
    "\n",
    "open() function is used to work with python files\n",
    "open() function takes two parameters, filename and mode\n",
    "\n",
    "#syntax\n",
    "\n",
    "f = open ('filename.txt')\n",
    "#OR\n",
    "\n",
    "f = open('filename.txt'. 'rt')\n",
    "\n",
    "\n",
    "#reading \n",
    "\n",
    "f = open('filename.txt')\n",
    "\n",
    "print(f.read())\n",
    "\n",
    "\n",
    "#you can specify the number of files you want to read \n",
    "\n",
    "f = open('filename.txt')\n",
    "\n",
    "print(f.read(5))\n",
    "\n",
    "\n",
    "#readline method\n",
    "\n",
    "f = readline('filename.txt')\n",
    "\n",
    "print(f.readline())\n",
    "print(f.readline())\n",
    "\n",
    "\n",
    "f = open('filename','r')\n",
    "for x in f:\n",
    "\tprint(x)\n",
    "\n",
    "\n",
    "f = open('filename.txt', 'r')\n",
    "print(f.readline())\n",
    "f.close()\n",
    "\n",
    "\n",
    "#open and appending a file\n",
    "\n",
    "f = open('filename', 'a')\n",
    "\n",
    "f.write('now the file has more content')\n",
    "f.close()\n",
    "\n",
    "\n",
    "f = open('filename.txt', 'r')\n",
    "print(f.read())\n",
    "\n",
    "\n",
    "f = open('filename.txt', 'a')\n",
    "f.write('i have deleted the content')\n",
    "f.close()\n",
    "\n",
    "f = open('filename', 'r')\n",
    "print(f.read())\n",
    "\n",
    "\n",
    "\n",
    "#CREATE A NEW FILE\n",
    "\n",
    "f = open('myfile.txt','x')\n",
    "\n",
    "\n",
    "\n",
    "#DELETE A FILE\n",
    "\n",
    "#You must first import os module\n",
    "\n",
    "\n",
    "import os\n",
    "os.remove('filename.txt')\n",
    "\n",
    "\n",
    "#must check if file exist before deleting\n",
    "\n",
    "import os\n",
    "\n",
    "if os.path.exists('filename'):\n",
    "\tos.remove('filename')\n",
    "else:\n",
    "\tprint('the file does not exist')\n",
    "\n",
    "\n",
    "#DELETING FOLDER\n",
    "\n",
    "import os\n",
    "os.rmdir('myfolder')\n",
    "\n"
   ]
  },
  {
   "cell_type": "code",
   "execution_count": 17,
   "id": "8d1fe209-fc3c-4724-a100-d3a92075c3d1",
   "metadata": {},
   "outputs": [
    {
     "name": "stdout",
     "output_type": "stream",
     "text": [
      "['1', '2', '3', '5']\n"
     ]
    }
   ],
   "source": [
    "#REMOVING DUPLICATES FROM A LIST\n",
    "\n",
    "mylist = ['1','2','3','3','5']\n",
    "\n",
    "mylist =list(dict.fromkeys(mylist))\n",
    "\n",
    "print(mylist)\n",
    "\n",
    "\n"
   ]
  },
  {
   "cell_type": "code",
   "execution_count": 22,
   "id": "278771e9-a881-4c6f-bff4-682be5ba3df0",
   "metadata": {},
   "outputs": [
    {
     "name": "stdout",
     "output_type": "stream",
     "text": [
      "['1', '2', '3', '5']\n"
     ]
    }
   ],
   "source": [
    "#Create a Function\n",
    "#If you like to have a function where you can send your lists, \n",
    "#and get them back without duplicates, you can create a function and insert the code from the example above.\n",
    "\n",
    "\n",
    "def my_function(x):\n",
    "\treturn list(dict.fromkeys(x))\n",
    "\n",
    "mylist = my_function ([\"1\",\"2\",\"3\",\"3\",\"5\"])\n",
    "\n",
    "print(mylist)\n",
    "\n"
   ]
  },
  {
   "cell_type": "code",
   "execution_count": null,
   "id": "80aeb57f-e863-43f1-80e6-37d6936e76ba",
   "metadata": {},
   "outputs": [],
   "source": []
  },
  {
   "cell_type": "code",
   "execution_count": null,
   "id": "a2dbdb64-b9c6-4dae-b723-d5b67970cd8a",
   "metadata": {},
   "outputs": [],
   "source": []
  }
 ],
 "metadata": {
  "kernelspec": {
   "display_name": "Python 3 (ipykernel)",
   "language": "python",
   "name": "python3"
  },
  "language_info": {
   "codemirror_mode": {
    "name": "ipython",
    "version": 3
   },
   "file_extension": ".py",
   "mimetype": "text/x-python",
   "name": "python",
   "nbconvert_exporter": "python",
   "pygments_lexer": "ipython3",
   "version": "3.12.4"
  }
 },
 "nbformat": 4,
 "nbformat_minor": 5
}
