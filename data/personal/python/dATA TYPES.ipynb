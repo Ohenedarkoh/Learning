{
 "cells": [
  {
   "cell_type": "code",
   "execution_count": 1,
   "id": "61515c5d-3741-4f69-8be7-a20f25d19b98",
   "metadata": {},
   "outputs": [
    {
     "data": {
      "text/plain": [
       "int"
      ]
     },
     "execution_count": 1,
     "metadata": {},
     "output_type": "execute_result"
    }
   ],
   "source": [
    "type(12)"
   ]
  },
  {
   "cell_type": "code",
   "execution_count": 2,
   "id": "47a8185a-fcb8-4f3a-8029-a8cd9f75fb3c",
   "metadata": {},
   "outputs": [
    {
     "data": {
      "text/plain": [
       "int"
      ]
     },
     "execution_count": 2,
     "metadata": {},
     "output_type": "execute_result"
    }
   ],
   "source": [
    "type(-12)"
   ]
  },
  {
   "cell_type": "code",
   "execution_count": 3,
   "id": "45a274bc-d30e-460b-b4d1-dac5620e3a9c",
   "metadata": {},
   "outputs": [
    {
     "data": {
      "text/plain": [
       "int"
      ]
     },
     "execution_count": 3,
     "metadata": {},
     "output_type": "execute_result"
    }
   ],
   "source": [
    "type(-12+100)"
   ]
  },
  {
   "cell_type": "code",
   "execution_count": 4,
   "id": "beec9bcc-12fd-441e-8829-b0d60911bdc9",
   "metadata": {},
   "outputs": [
    {
     "data": {
      "text/plain": [
       "float"
      ]
     },
     "execution_count": 4,
     "metadata": {},
     "output_type": "execute_result"
    }
   ],
   "source": [
    "type(-12+10.25)"
   ]
  },
  {
   "cell_type": "code",
   "execution_count": 5,
   "id": "1497fddc-ce3c-4391-9494-b665b0209bcd",
   "metadata": {},
   "outputs": [
    {
     "data": {
      "text/plain": [
       "complex"
      ]
     },
     "execution_count": 5,
     "metadata": {},
     "output_type": "execute_result"
    }
   ],
   "source": [
    "type(12+3j)"
   ]
  },
  {
   "cell_type": "code",
   "execution_count": null,
   "id": "91e426c8-2fc7-4815-844e-48653eca97bc",
   "metadata": {},
   "outputs": [],
   "source": [
    "#boolean"
   ]
  },
  {
   "cell_type": "code",
   "execution_count": 6,
   "id": "e8040ffb-a23c-46ec-b8ec-740164be4586",
   "metadata": {},
   "outputs": [
    {
     "data": {
      "text/plain": [
       "bool"
      ]
     },
     "execution_count": 6,
     "metadata": {},
     "output_type": "execute_result"
    }
   ],
   "source": [
    "type(1 >  5)"
   ]
  },
  {
   "cell_type": "code",
   "execution_count": 7,
   "id": "719d9011-0e6a-4619-b512-320744c9b482",
   "metadata": {},
   "outputs": [
    {
     "data": {
      "text/plain": [
       "False"
      ]
     },
     "execution_count": 7,
     "metadata": {},
     "output_type": "execute_result"
    }
   ],
   "source": [
    "1 > 5"
   ]
  },
  {
   "cell_type": "code",
   "execution_count": null,
   "id": "bb02ce03-7130-475a-ad37-5f91b7ba3116",
   "metadata": {},
   "outputs": [],
   "source": [
    "# strings"
   ]
  },
  {
   "cell_type": "code",
   "execution_count": 8,
   "id": "af912d96-26b3-49b4-9a11-e4f443cfd485",
   "metadata": {},
   "outputs": [
    {
     "data": {
      "text/plain": [
       "'single quote'"
      ]
     },
     "execution_count": 8,
     "metadata": {},
     "output_type": "execute_result"
    }
   ],
   "source": [
    "'single quote'"
   ]
  },
  {
   "cell_type": "code",
   "execution_count": 9,
   "id": "48959978-edd0-4977-9f7f-548aa1cb1036",
   "metadata": {},
   "outputs": [
    {
     "data": {
      "text/plain": [
       "' double quote'"
      ]
     },
     "execution_count": 9,
     "metadata": {},
     "output_type": "execute_result"
    }
   ],
   "source": [
    "\" double quote\""
   ]
  },
  {
   "cell_type": "code",
   "execution_count": 13,
   "id": "727a9d47-8fd9-4d66-910d-b7ee92852942",
   "metadata": {},
   "outputs": [
    {
     "name": "stdout",
     "output_type": "stream",
     "text": [
      "\n",
      "the ice cream vanquished my longing sweets, upon this diet i look away, it no longer exisys on this day\n",
      "\n"
     ]
    }
   ],
   "source": [
    "multiline = \"\"\"\n",
    "the ice cream vanquished my longing sweets, upon this diet i look away, it no longer exisys on this day\n",
    "\"\"\"\n",
    "print(multiline)"
   ]
  },
  {
   "cell_type": "code",
   "execution_count": 11,
   "id": "b93a72db-36c3-4c0e-8512-ebd725541a0c",
   "metadata": {},
   "outputs": [
    {
     "data": {
      "text/plain": [
       "' i have always wanted to eat a gallon of ice cream'"
      ]
     },
     "execution_count": 11,
     "metadata": {},
     "output_type": "execute_result"
    }
   ],
   "source": [
    "\" i have always wanted to eat a gallon of ice cream\""
   ]
  },
  {
   "cell_type": "code",
   "execution_count": 14,
   "id": "7e7937ea-ec18-4896-98c6-ee58aa16d5dc",
   "metadata": {},
   "outputs": [
    {
     "data": {
      "text/plain": [
       "str"
      ]
     },
     "execution_count": 14,
     "metadata": {},
     "output_type": "execute_result"
    }
   ],
   "source": [
    "type (multiline)"
   ]
  },
  {
   "cell_type": "code",
   "execution_count": 15,
   "id": "ba35b732-7818-4762-8b10-208f077e3a6f",
   "metadata": {},
   "outputs": [],
   "source": [
    "a = 'hello world!'"
   ]
  },
  {
   "cell_type": "code",
   "execution_count": 23,
   "id": "27774e89-81a0-4ed8-8363-5c4d94d7136e",
   "metadata": {},
   "outputs": [
    {
     "name": "stdout",
     "output_type": "stream",
     "text": [
      "llo\n"
     ]
    }
   ],
   "source": [
    "print(a[2:5])"
   ]
  },
  {
   "cell_type": "code",
   "execution_count": 26,
   "id": "c9cbc97e-362d-4679-8658-4cb4a1858cdc",
   "metadata": {},
   "outputs": [
    {
     "data": {
      "text/plain": [
       "'hello world!hello world!hello world!'"
      ]
     },
     "execution_count": 26,
     "metadata": {},
     "output_type": "execute_result"
    }
   ],
   "source": [
    "a*3"
   ]
  },
  {
   "cell_type": "code",
   "execution_count": 27,
   "id": "0c84e49a-87bd-41a8-bcfc-d96bb5bcde62",
   "metadata": {},
   "outputs": [
    {
     "data": {
      "text/plain": [
       "[1, 2, 3]"
      ]
     },
     "execution_count": 27,
     "metadata": {},
     "output_type": "execute_result"
    }
   ],
   "source": [
    "# list\n",
    "\n",
    "[1,2,3]"
   ]
  },
  {
   "cell_type": "code",
   "execution_count": 28,
   "id": "430cbfb1-35d4-4435-bb45-b87132f4911b",
   "metadata": {},
   "outputs": [
    {
     "data": {
      "text/plain": [
       "['cookie dough', 'strawberry', ' chocolate']"
      ]
     },
     "execution_count": 28,
     "metadata": {},
     "output_type": "execute_result"
    }
   ],
   "source": [
    "['cookie dough', 'strawberry', ' chocolate']"
   ]
  },
  {
   "cell_type": "code",
   "execution_count": 31,
   "id": "fcf9f069-2b10-4897-9aaf-ad6e4ce38918",
   "metadata": {},
   "outputs": [
    {
     "data": {
      "text/plain": [
       "['vanilla', 3, ['scoops', 'spoon'], True]"
      ]
     },
     "execution_count": 31,
     "metadata": {},
     "output_type": "execute_result"
    }
   ],
   "source": [
    "\n",
    "\n",
    "#nested list\n",
    "['vanilla',3,['scoops','spoon'],True]"
   ]
  },
  {
   "cell_type": "code",
   "execution_count": 32,
   "id": "96481e3f-316c-4f28-9375-97a96767eab8",
   "metadata": {},
   "outputs": [
    {
     "data": {
      "text/plain": [
       "['cookie dough', 'strawberry', ' chocolate', 'salted caramel']"
      ]
     },
     "execution_count": 32,
     "metadata": {},
     "output_type": "execute_result"
    }
   ],
   "source": [
    "ice_cream =['cookie dough', 'strawberry', ' chocolate']\n",
    "ice_cream.append('salted caramel')\n",
    "ice_cream"
   ]
  },
  {
   "cell_type": "code",
   "execution_count": 33,
   "id": "e6117a9d-144e-475c-b643-ce5700ce7dce",
   "metadata": {},
   "outputs": [
    {
     "data": {
      "text/plain": [
       "['butter pecan', 'strawberry', ' chocolate', 'salted caramel']"
      ]
     },
     "execution_count": 33,
     "metadata": {},
     "output_type": "execute_result"
    }
   ],
   "source": [
    "ice_cream[0] = 'butter pecan'\n",
    "ice_cream"
   ]
  },
  {
   "cell_type": "code",
   "execution_count": 36,
   "id": "a9d50d61-cfef-4c7c-b525-eae8b3baff01",
   "metadata": {},
   "outputs": [
    {
     "data": {
      "text/plain": [
       "'spoon'"
      ]
     },
     "execution_count": 36,
     "metadata": {},
     "output_type": "execute_result"
    }
   ],
   "source": [
    "nest_list=['vanilla',3,['scoops','spoon'],True]\n",
    "\n",
    "nest_list[2][1]"
   ]
  },
  {
   "cell_type": "code",
   "execution_count": 41,
   "id": "8c0578f5-ade7-4cf5-83ad-a862f3de4efe",
   "metadata": {},
   "outputs": [],
   "source": [
    "#tuple\n",
    "\n",
    "\n",
    "tuple_scoops = (1,2,3,2,1)"
   ]
  },
  {
   "cell_type": "code",
   "execution_count": 42,
   "id": "bd651584-1d30-44dc-87df-9662baaa06d0",
   "metadata": {},
   "outputs": [
    {
     "data": {
      "text/plain": [
       "tuple"
      ]
     },
     "execution_count": 42,
     "metadata": {},
     "output_type": "execute_result"
    }
   ],
   "source": [
    "type(tuple_scoops)"
   ]
  },
  {
   "cell_type": "code",
   "execution_count": 43,
   "id": "a651f363-dfb3-40a1-9190-6ea44d8eb523",
   "metadata": {},
   "outputs": [
    {
     "data": {
      "text/plain": [
       "1"
      ]
     },
     "execution_count": 43,
     "metadata": {},
     "output_type": "execute_result"
    }
   ],
   "source": [
    "tuple_scoops[0]"
   ]
  },
  {
   "cell_type": "code",
   "execution_count": 45,
   "id": "f8569c02-e66a-4bf8-8087-45c436ea18c2",
   "metadata": {},
   "outputs": [],
   "source": [
    "#sets\n",
    "\n",
    "daily_pints={1,2,3}"
   ]
  },
  {
   "cell_type": "code",
   "execution_count": 46,
   "id": "9e215919-60d7-4c72-ada3-eec4a80319ed",
   "metadata": {},
   "outputs": [
    {
     "data": {
      "text/plain": [
       "set"
      ]
     },
     "execution_count": 46,
     "metadata": {},
     "output_type": "execute_result"
    }
   ],
   "source": [
    "type(daily_pints)"
   ]
  },
  {
   "cell_type": "code",
   "execution_count": 49,
   "id": "a7c4881f-5928-46ad-905e-8a90beb23bf8",
   "metadata": {},
   "outputs": [
    {
     "name": "stdout",
     "output_type": "stream",
     "text": [
      "{1, 2, 3}\n"
     ]
    }
   ],
   "source": [
    "print(daily_pints)"
   ]
  },
  {
   "cell_type": "code",
   "execution_count": 50,
   "id": "5aeb3b82-4f68-414c-bc69-262c4f1b7b93",
   "metadata": {},
   "outputs": [
    {
     "name": "stdout",
     "output_type": "stream",
     "text": [
      "{1, 2, 3, 4, 5, 6, 31}\n"
     ]
    }
   ],
   "source": [
    "daily_pints_log = {1,2,31,2,3,4,1,2,5,6,3,2}\n",
    "\n",
    "print(daily_pints_log)"
   ]
  },
  {
   "cell_type": "code",
   "execution_count": 51,
   "id": "10191cc3-6cd8-4051-9cc6-c59a36fafebc",
   "metadata": {},
   "outputs": [],
   "source": [
    "wifes_daily_pints_log = {1,3,5,7,3,24,5,7,3,2,0}"
   ]
  },
  {
   "cell_type": "code",
   "execution_count": 55,
   "id": "92a1e84f-b31f-472a-acce-80bea92128b1",
   "metadata": {},
   "outputs": [
    {
     "name": "stdout",
     "output_type": "stream",
     "text": [
      "{0, 1, 2, 3, 4, 5, 6, 7, 24, 31}\n"
     ]
    }
   ],
   "source": [
    "print(daily_pints_log  | wifes_daily_pints_log)\n"
   ]
  },
  {
   "cell_type": "code",
   "execution_count": 56,
   "id": "e869bb41-c912-468d-ad3d-784d9de8ae07",
   "metadata": {},
   "outputs": [
    {
     "name": "stdout",
     "output_type": "stream",
     "text": [
      "{1, 2, 3, 5}\n"
     ]
    }
   ],
   "source": [
    "print (daily_pints_log & wifes_daily_pints_log)"
   ]
  },
  {
   "cell_type": "code",
   "execution_count": 54,
   "id": "3f9b39a0-84a7-4516-bf26-81606d29b797",
   "metadata": {},
   "outputs": [
    {
     "data": {
      "text/plain": [
       "[1, 2, 3, 4, 7]"
      ]
     },
     "execution_count": 54,
     "metadata": {},
     "output_type": "execute_result"
    }
   ],
   "source": []
  },
  {
   "cell_type": "code",
   "execution_count": 57,
   "id": "c981f2ac-e971-4588-90ed-cd22f22546c9",
   "metadata": {},
   "outputs": [
    {
     "name": "stdout",
     "output_type": "stream",
     "text": [
      "{0, 24, 7}\n"
     ]
    }
   ],
   "source": [
    "print(wifes_daily_pints_log - daily_pints_log)"
   ]
  },
  {
   "cell_type": "code",
   "execution_count": 59,
   "id": "4e0d7fa9-a2c7-4062-88de-09ccf5075614",
   "metadata": {},
   "outputs": [
    {
     "name": "stdout",
     "output_type": "stream",
     "text": [
      "{0, 4, 6, 7, 24, 31}\n"
     ]
    }
   ],
   "source": [
    "print(wifes_daily_pints_log ^ daily_pints_log)"
   ]
  },
  {
   "cell_type": "code",
   "execution_count": 60,
   "id": "d605f8a6-39a5-4e35-b332-fad3deb362c4",
   "metadata": {},
   "outputs": [],
   "source": [
    "# dictionaries\n",
    "#key/value\n",
    "\n",
    "\n",
    "dict_cream = {'name':'alex freberg',\n",
    "              'weekly intake': 5, \n",
    "              'favourite ice creams': ['mcc','chocolate']\n",
    "             }"
   ]
  },
  {
   "cell_type": "code",
   "execution_count": 61,
   "id": "a0a08414-f5c1-43e4-a71e-9f25a5d4aa4d",
   "metadata": {},
   "outputs": [
    {
     "name": "stdout",
     "output_type": "stream",
     "text": [
      "{'name': 'alex freberg', 'weekly intake': 5, 'favourite ice creams': ['mcc', 'chocolate']}\n"
     ]
    }
   ],
   "source": [
    "print(dict_cream)"
   ]
  },
  {
   "cell_type": "code",
   "execution_count": 65,
   "id": "a94f2cb6-369c-40e0-9ff5-8367c2b31560",
   "metadata": {},
   "outputs": [
    {
     "data": {
      "text/plain": [
       "dict_values(['alex freberg', 5, ['mcc', 'chocolate']])"
      ]
     },
     "execution_count": 65,
     "metadata": {},
     "output_type": "execute_result"
    }
   ],
   "source": [
    "dict_cream.values()"
   ]
  },
  {
   "cell_type": "code",
   "execution_count": 66,
   "id": "444a91c7-f594-4f75-be9d-e851c468e62b",
   "metadata": {},
   "outputs": [
    {
     "data": {
      "text/plain": [
       "dict_keys(['name', 'weekly intake', 'favourite ice creams'])"
      ]
     },
     "execution_count": 66,
     "metadata": {},
     "output_type": "execute_result"
    }
   ],
   "source": [
    "dict_cream.keys()"
   ]
  },
  {
   "cell_type": "code",
   "execution_count": 67,
   "id": "5b283976-e9ed-4a15-8669-d8634edfcd22",
   "metadata": {},
   "outputs": [
    {
     "data": {
      "text/plain": [
       "dict_items([('name', 'alex freberg'), ('weekly intake', 5), ('favourite ice creams', ['mcc', 'chocolate'])])"
      ]
     },
     "execution_count": 67,
     "metadata": {},
     "output_type": "execute_result"
    }
   ],
   "source": [
    "dict_cream.items()"
   ]
  },
  {
   "cell_type": "code",
   "execution_count": 68,
   "id": "30b18d5f-261e-4862-b6bb-007677d3b197",
   "metadata": {},
   "outputs": [
    {
     "data": {
      "text/plain": [
       "'alex freberg'"
      ]
     },
     "execution_count": 68,
     "metadata": {},
     "output_type": "execute_result"
    }
   ],
   "source": [
    "dict_cream['name']"
   ]
  },
  {
   "cell_type": "code",
   "execution_count": 70,
   "id": "08df93ec-40bd-4fc3-a585-4371d22cf881",
   "metadata": {},
   "outputs": [
    {
     "name": "stdout",
     "output_type": "stream",
     "text": [
      "{'name': 'chris', 'weekly intake': 5, 'favourite ice creams': ['mcc', 'chocolate']}\n"
     ]
    }
   ],
   "source": [
    "dict_cream['name']= 'chris'\n",
    "\n",
    "print(dict_cream)"
   ]
  },
  {
   "cell_type": "code",
   "execution_count": null,
   "id": "1be50d33-07ca-4f8d-8177-4b708694956e",
   "metadata": {},
   "outputs": [],
   "source": []
  }
 ],
 "metadata": {
  "kernelspec": {
   "display_name": "Python 3 (ipykernel)",
   "language": "python",
   "name": "python3"
  },
  "language_info": {
   "codemirror_mode": {
    "name": "ipython",
    "version": 3
   },
   "file_extension": ".py",
   "mimetype": "text/x-python",
   "name": "python",
   "nbconvert_exporter": "python",
   "pygments_lexer": "ipython3",
   "version": "3.12.4"
  }
 },
 "nbformat": 4,
 "nbformat_minor": 5
}
