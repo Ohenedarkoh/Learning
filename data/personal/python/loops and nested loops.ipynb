{
 "cells": [
  {
   "cell_type": "code",
   "execution_count": 7,
   "id": "95f1d620-fabf-41b7-8b8d-eb97430525f6",
   "metadata": {},
   "outputs": [],
   "source": [
    "#loops\n",
    "\n",
    "integers= [1,2,3,4,5]"
   ]
  },
  {
   "cell_type": "code",
   "execution_count": 8,
   "id": "3871734d-e91b-4066-b7e1-b34effabdc48",
   "metadata": {},
   "outputs": [
    {
     "name": "stdout",
     "output_type": "stream",
     "text": [
      "1\n",
      "2\n",
      "3\n",
      "4\n",
      "5\n"
     ]
    }
   ],
   "source": [
    "for number in integers:\n",
    "    print(number)"
   ]
  },
  {
   "cell_type": "code",
   "execution_count": 10,
   "id": "b5ae4cde-fb6f-4730-84b0-8a1efd2f29e4",
   "metadata": {},
   "outputs": [
    {
     "name": "stdout",
     "output_type": "stream",
     "text": [
      "yep!\n",
      "yep!\n",
      "yep!\n",
      "yep!\n",
      "yep!\n"
     ]
    }
   ],
   "source": [
    "for number in integers:\n",
    "    print('yep!')"
   ]
  },
  {
   "cell_type": "code",
   "execution_count": 12,
   "id": "987d7825-8338-46ae-8e83-d44e8c95df5c",
   "metadata": {},
   "outputs": [],
   "source": [
    "integers= [1,2,3,4,5]"
   ]
  },
  {
   "cell_type": "code",
   "execution_count": 22,
   "id": "c66fd5d2-18f6-45fb-9423-d7c1e990578c",
   "metadata": {},
   "outputs": [
    {
     "name": "stdout",
     "output_type": "stream",
     "text": [
      "2\n",
      "4\n",
      "6\n",
      "8\n",
      "10\n"
     ]
    }
   ],
   "source": [
    "for jelly in integers:\n",
    "    print(jelly + jelly)"
   ]
  },
  {
   "cell_type": "code",
   "execution_count": 15,
   "id": "4e595947-7480-4886-b832-229ab612eb6c",
   "metadata": {},
   "outputs": [],
   "source": [
    "ice_cream_dict= { 'name': ' frank', ' weekly intake': 5, ' favourite ice creams': [ 'mcc',' chocolate']}"
   ]
  },
  {
   "cell_type": "code",
   "execution_count": 24,
   "id": "cff5bb57-3e73-45a9-8e6c-af9251e3a046",
   "metadata": {},
   "outputs": [
    {
     "name": "stdout",
     "output_type": "stream",
     "text": [
      " frank\n",
      "5\n",
      "['mcc', ' chocolate']\n"
     ]
    }
   ],
   "source": [
    "for cream in ice_cream_dict.values():\n",
    "    print(cream)"
   ]
  },
  {
   "cell_type": "code",
   "execution_count": 28,
   "id": "f7ea2d72-e6fc-4dfb-894f-f3ce9f0a74da",
   "metadata": {},
   "outputs": [
    {
     "name": "stdout",
     "output_type": "stream",
     "text": [
      "name ->  frank\n",
      " weekly intake -> 5\n",
      " favourite ice creams -> ['mcc', ' chocolate']\n"
     ]
    }
   ],
   "source": [
    "for key, value in ice_cream_dict.items():\n",
    "    print(key , '->' , value)"
   ]
  },
  {
   "cell_type": "code",
   "execution_count": null,
   "id": "5e2124ae-6adb-4313-8eca-3816dafde96f",
   "metadata": {},
   "outputs": [],
   "source": [
    "#nested for loops"
   ]
  },
  {
   "cell_type": "code",
   "execution_count": 30,
   "id": "2261cfd1-057e-4fd5-b2ad-a4af9331d022",
   "metadata": {},
   "outputs": [],
   "source": [
    "flavors =['vanilla', 'chocolate', 'cokkie dough']\n",
    "toppings = ['hot fudge','oreos', ' marshmallows']"
   ]
  },
  {
   "cell_type": "code",
   "execution_count": 32,
   "id": "db06caec-471d-41af-be03-ce9f725c15c4",
   "metadata": {},
   "outputs": [
    {
     "name": "stdout",
     "output_type": "stream",
     "text": [
      "vanilla  topped with hot fudge\n",
      "vanilla  topped with oreos\n",
      "vanilla  topped with  marshmallows\n",
      "chocolate  topped with hot fudge\n",
      "chocolate  topped with oreos\n",
      "chocolate  topped with  marshmallows\n",
      "cokkie dough  topped with hot fudge\n",
      "cokkie dough  topped with oreos\n",
      "cokkie dough  topped with  marshmallows\n"
     ]
    }
   ],
   "source": [
    "for one in flavors:\n",
    "    for two in toppings:\n",
    "         print (one,' topped with', two)"
   ]
  },
  {
   "cell_type": "code",
   "execution_count": null,
   "id": "dd95e9c0-6e40-42fa-8abb-5ea9a261c72a",
   "metadata": {},
   "outputs": [],
   "source": []
  }
 ],
 "metadata": {
  "kernelspec": {
   "display_name": "Python 3 (ipykernel)",
   "language": "python",
   "name": "python3"
  },
  "language_info": {
   "codemirror_mode": {
    "name": "ipython",
    "version": 3
   },
   "file_extension": ".py",
   "mimetype": "text/x-python",
   "name": "python",
   "nbconvert_exporter": "python",
   "pygments_lexer": "ipython3",
   "version": "3.12.4"
  }
 },
 "nbformat": 4,
 "nbformat_minor": 5
}
